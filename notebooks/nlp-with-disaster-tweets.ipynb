{
 "cells": [
  {
   "cell_type": "code",
   "execution_count": 1,
   "id": "109f4e92",
   "metadata": {
    "_cell_guid": "b1076dfc-b9ad-4769-8c92-a6c4dae69d19",
    "_uuid": "8f2839f25d086af736a60e9eeb907d3b93b6e0e5",
    "execution": {
     "iopub.execute_input": "2025-07-18T00:32:54.527457Z",
     "iopub.status.busy": "2025-07-18T00:32:54.527068Z",
     "iopub.status.idle": "2025-07-18T00:32:56.731855Z",
     "shell.execute_reply": "2025-07-18T00:32:56.730715Z"
    },
    "papermill": {
     "duration": 2.21564,
     "end_time": "2025-07-18T00:32:56.733745",
     "exception": false,
     "start_time": "2025-07-18T00:32:54.518105",
     "status": "completed"
    },
    "tags": []
   },
   "outputs": [
    {
     "name": "stdout",
     "output_type": "stream",
     "text": [
      "/kaggle/input/disaster-tweets-data/sample_submission.csv\n",
      "/kaggle/input/disaster-tweets-data/train.csv\n",
      "/kaggle/input/disaster-tweets-data/test.csv\n"
     ]
    }
   ],
   "source": [
    "# This Python 3 environment comes with many helpful analytics libraries installed\n",
    "# It is defined by the kaggle/python Docker image: https://github.com/kaggle/docker-python\n",
    "# For example, here's several helpful packages to load\n",
    "\n",
    "import numpy as np # linear algebra\n",
    "import pandas as pd # data processing, CSV file I/O (e.g. pd.read_csv)\n",
    "\n",
    "# Input data files are available in the read-only \"../input/\" directory\n",
    "# For example, running this (by clicking run or pressing Shift+Enter) will list all files under the input directory\n",
    "\n",
    "import os\n",
    "for dirname, _, filenames in os.walk('/kaggle/input'):\n",
    "    for filename in filenames:\n",
    "        print(os.path.join(dirname, filename))\n",
    "\n",
    "# You can write up to 20GB to the current directory (/kaggle/working/) that gets preserved as output when you create a version using \"Save & Run All\" \n",
    "# You can also write temporary files to /kaggle/temp/, but they won't be saved outside of the current session"
   ]
  },
  {
   "cell_type": "markdown",
   "id": "5332023a",
   "metadata": {
    "papermill": {
     "duration": 0.005943,
     "end_time": "2025-07-18T00:32:56.746573",
     "exception": false,
     "start_time": "2025-07-18T00:32:56.740630",
     "status": "completed"
    },
    "tags": []
   },
   "source": [
    "<h3>Import Libraries</h3>"
   ]
  },
  {
   "cell_type": "code",
   "execution_count": 2,
   "id": "bb77a210",
   "metadata": {
    "execution": {
     "iopub.execute_input": "2025-07-18T00:32:56.760529Z",
     "iopub.status.busy": "2025-07-18T00:32:56.760007Z",
     "iopub.status.idle": "2025-07-18T00:33:44.357974Z",
     "shell.execute_reply": "2025-07-18T00:33:44.356871Z"
    },
    "papermill": {
     "duration": 47.607756,
     "end_time": "2025-07-18T00:33:44.360467",
     "exception": false,
     "start_time": "2025-07-18T00:32:56.752711",
     "status": "completed"
    },
    "tags": []
   },
   "outputs": [
    {
     "name": "stderr",
     "output_type": "stream",
     "text": [
      "2025-07-18 00:33:24.931058: E external/local_xla/xla/stream_executor/cuda/cuda_fft.cc:477] Unable to register cuFFT factory: Attempting to register factory for plugin cuFFT when one has already been registered\n",
      "WARNING: All log messages before absl::InitializeLog() is called are written to STDERR\n",
      "E0000 00:00:1752798805.175427      13 cuda_dnn.cc:8310] Unable to register cuDNN factory: Attempting to register factory for plugin cuDNN when one has already been registered\n",
      "E0000 00:00:1752798805.261630      13 cuda_blas.cc:1418] Unable to register cuBLAS factory: Attempting to register factory for plugin cuBLAS when one has already been registered\n"
     ]
    }
   ],
   "source": [
    "import re\n",
    "import nltk\n",
    "import torch\n",
    "import spacy\n",
    "from nltk.corpus import stopwords\n",
    "from nltk.tokenize import word_tokenize\n",
    "from sklearn.metrics import f1_score\n",
    "from sklearn.model_selection import train_test_split\n",
    "from transformers import AutoTokenizer, AutoModel, TrainingArguments, Trainer, DataCollatorWithPadding\n",
    "from torch.utils.data import DataLoader, Dataset"
   ]
  },
  {
   "cell_type": "markdown",
   "id": "a7e9fd5c",
   "metadata": {
    "papermill": {
     "duration": 0.006836,
     "end_time": "2025-07-18T00:33:44.374879",
     "exception": false,
     "start_time": "2025-07-18T00:33:44.368043",
     "status": "completed"
    },
    "tags": []
   },
   "source": [
    "<h3>Get Data</h3>"
   ]
  },
  {
   "cell_type": "code",
   "execution_count": 3,
   "id": "e03e7139",
   "metadata": {
    "execution": {
     "iopub.execute_input": "2025-07-18T00:33:44.390948Z",
     "iopub.status.busy": "2025-07-18T00:33:44.390038Z",
     "iopub.status.idle": "2025-07-18T00:33:44.476514Z",
     "shell.execute_reply": "2025-07-18T00:33:44.475200Z"
    },
    "papermill": {
     "duration": 0.096466,
     "end_time": "2025-07-18T00:33:44.478501",
     "exception": false,
     "start_time": "2025-07-18T00:33:44.382035",
     "status": "completed"
    },
    "tags": []
   },
   "outputs": [],
   "source": [
    "train_data = pd.read_csv('/kaggle/input/disaster-tweets-data/train.csv')\n",
    "test_data = pd.read_csv('/kaggle/input/disaster-tweets-data/test.csv')"
   ]
  },
  {
   "cell_type": "code",
   "execution_count": 4,
   "id": "a005805a",
   "metadata": {
    "execution": {
     "iopub.execute_input": "2025-07-18T00:33:44.493781Z",
     "iopub.status.busy": "2025-07-18T00:33:44.493372Z",
     "iopub.status.idle": "2025-07-18T00:33:44.522484Z",
     "shell.execute_reply": "2025-07-18T00:33:44.521450Z"
    },
    "papermill": {
     "duration": 0.039499,
     "end_time": "2025-07-18T00:33:44.524296",
     "exception": false,
     "start_time": "2025-07-18T00:33:44.484797",
     "status": "completed"
    },
    "tags": []
   },
   "outputs": [
    {
     "data": {
      "text/html": [
       "<div>\n",
       "<style scoped>\n",
       "    .dataframe tbody tr th:only-of-type {\n",
       "        vertical-align: middle;\n",
       "    }\n",
       "\n",
       "    .dataframe tbody tr th {\n",
       "        vertical-align: top;\n",
       "    }\n",
       "\n",
       "    .dataframe thead th {\n",
       "        text-align: right;\n",
       "    }\n",
       "</style>\n",
       "<table border=\"1\" class=\"dataframe\">\n",
       "  <thead>\n",
       "    <tr style=\"text-align: right;\">\n",
       "      <th></th>\n",
       "      <th>id</th>\n",
       "      <th>keyword</th>\n",
       "      <th>location</th>\n",
       "      <th>text</th>\n",
       "      <th>target</th>\n",
       "    </tr>\n",
       "  </thead>\n",
       "  <tbody>\n",
       "    <tr>\n",
       "      <th>0</th>\n",
       "      <td>1</td>\n",
       "      <td>NaN</td>\n",
       "      <td>NaN</td>\n",
       "      <td>Our Deeds are the Reason of this #earthquake M...</td>\n",
       "      <td>1</td>\n",
       "    </tr>\n",
       "    <tr>\n",
       "      <th>1</th>\n",
       "      <td>4</td>\n",
       "      <td>NaN</td>\n",
       "      <td>NaN</td>\n",
       "      <td>Forest fire near La Ronge Sask. Canada</td>\n",
       "      <td>1</td>\n",
       "    </tr>\n",
       "    <tr>\n",
       "      <th>2</th>\n",
       "      <td>5</td>\n",
       "      <td>NaN</td>\n",
       "      <td>NaN</td>\n",
       "      <td>All residents asked to 'shelter in place' are ...</td>\n",
       "      <td>1</td>\n",
       "    </tr>\n",
       "    <tr>\n",
       "      <th>3</th>\n",
       "      <td>6</td>\n",
       "      <td>NaN</td>\n",
       "      <td>NaN</td>\n",
       "      <td>13,000 people receive #wildfires evacuation or...</td>\n",
       "      <td>1</td>\n",
       "    </tr>\n",
       "    <tr>\n",
       "      <th>4</th>\n",
       "      <td>7</td>\n",
       "      <td>NaN</td>\n",
       "      <td>NaN</td>\n",
       "      <td>Just got sent this photo from Ruby #Alaska as ...</td>\n",
       "      <td>1</td>\n",
       "    </tr>\n",
       "  </tbody>\n",
       "</table>\n",
       "</div>"
      ],
      "text/plain": [
       "   id keyword location                                               text  \\\n",
       "0   1     NaN      NaN  Our Deeds are the Reason of this #earthquake M...   \n",
       "1   4     NaN      NaN             Forest fire near La Ronge Sask. Canada   \n",
       "2   5     NaN      NaN  All residents asked to 'shelter in place' are ...   \n",
       "3   6     NaN      NaN  13,000 people receive #wildfires evacuation or...   \n",
       "4   7     NaN      NaN  Just got sent this photo from Ruby #Alaska as ...   \n",
       "\n",
       "   target  \n",
       "0       1  \n",
       "1       1  \n",
       "2       1  \n",
       "3       1  \n",
       "4       1  "
      ]
     },
     "execution_count": 4,
     "metadata": {},
     "output_type": "execute_result"
    }
   ],
   "source": [
    "train_data.head()"
   ]
  },
  {
   "cell_type": "code",
   "execution_count": 5,
   "id": "75833078",
   "metadata": {
    "execution": {
     "iopub.execute_input": "2025-07-18T00:33:44.538643Z",
     "iopub.status.busy": "2025-07-18T00:33:44.538235Z",
     "iopub.status.idle": "2025-07-18T00:33:44.549234Z",
     "shell.execute_reply": "2025-07-18T00:33:44.548250Z"
    },
    "papermill": {
     "duration": 0.020163,
     "end_time": "2025-07-18T00:33:44.550963",
     "exception": false,
     "start_time": "2025-07-18T00:33:44.530800",
     "status": "completed"
    },
    "tags": []
   },
   "outputs": [
    {
     "data": {
      "text/html": [
       "<div>\n",
       "<style scoped>\n",
       "    .dataframe tbody tr th:only-of-type {\n",
       "        vertical-align: middle;\n",
       "    }\n",
       "\n",
       "    .dataframe tbody tr th {\n",
       "        vertical-align: top;\n",
       "    }\n",
       "\n",
       "    .dataframe thead th {\n",
       "        text-align: right;\n",
       "    }\n",
       "</style>\n",
       "<table border=\"1\" class=\"dataframe\">\n",
       "  <thead>\n",
       "    <tr style=\"text-align: right;\">\n",
       "      <th></th>\n",
       "      <th>id</th>\n",
       "      <th>keyword</th>\n",
       "      <th>location</th>\n",
       "      <th>text</th>\n",
       "    </tr>\n",
       "  </thead>\n",
       "  <tbody>\n",
       "    <tr>\n",
       "      <th>0</th>\n",
       "      <td>0</td>\n",
       "      <td>NaN</td>\n",
       "      <td>NaN</td>\n",
       "      <td>Just happened a terrible car crash</td>\n",
       "    </tr>\n",
       "    <tr>\n",
       "      <th>1</th>\n",
       "      <td>2</td>\n",
       "      <td>NaN</td>\n",
       "      <td>NaN</td>\n",
       "      <td>Heard about #earthquake is different cities, s...</td>\n",
       "    </tr>\n",
       "    <tr>\n",
       "      <th>2</th>\n",
       "      <td>3</td>\n",
       "      <td>NaN</td>\n",
       "      <td>NaN</td>\n",
       "      <td>there is a forest fire at spot pond, geese are...</td>\n",
       "    </tr>\n",
       "    <tr>\n",
       "      <th>3</th>\n",
       "      <td>9</td>\n",
       "      <td>NaN</td>\n",
       "      <td>NaN</td>\n",
       "      <td>Apocalypse lighting. #Spokane #wildfires</td>\n",
       "    </tr>\n",
       "    <tr>\n",
       "      <th>4</th>\n",
       "      <td>11</td>\n",
       "      <td>NaN</td>\n",
       "      <td>NaN</td>\n",
       "      <td>Typhoon Soudelor kills 28 in China and Taiwan</td>\n",
       "    </tr>\n",
       "  </tbody>\n",
       "</table>\n",
       "</div>"
      ],
      "text/plain": [
       "   id keyword location                                               text\n",
       "0   0     NaN      NaN                 Just happened a terrible car crash\n",
       "1   2     NaN      NaN  Heard about #earthquake is different cities, s...\n",
       "2   3     NaN      NaN  there is a forest fire at spot pond, geese are...\n",
       "3   9     NaN      NaN           Apocalypse lighting. #Spokane #wildfires\n",
       "4  11     NaN      NaN      Typhoon Soudelor kills 28 in China and Taiwan"
      ]
     },
     "execution_count": 5,
     "metadata": {},
     "output_type": "execute_result"
    }
   ],
   "source": [
    "test_data.head()"
   ]
  },
  {
   "cell_type": "code",
   "execution_count": 6,
   "id": "51e700be",
   "metadata": {
    "execution": {
     "iopub.execute_input": "2025-07-18T00:33:44.567491Z",
     "iopub.status.busy": "2025-07-18T00:33:44.566423Z",
     "iopub.status.idle": "2025-07-18T00:33:44.600937Z",
     "shell.execute_reply": "2025-07-18T00:33:44.599358Z"
    },
    "papermill": {
     "duration": 0.045016,
     "end_time": "2025-07-18T00:33:44.603010",
     "exception": false,
     "start_time": "2025-07-18T00:33:44.557994",
     "status": "completed"
    },
    "tags": []
   },
   "outputs": [
    {
     "name": "stdout",
     "output_type": "stream",
     "text": [
      "<class 'pandas.core.frame.DataFrame'>\n",
      "RangeIndex: 10876 entries, 0 to 10875\n",
      "Data columns (total 5 columns):\n",
      " #   Column    Non-Null Count  Dtype \n",
      "---  ------    --------------  ----- \n",
      " 0   id        10876 non-null  int64 \n",
      " 1   keyword   10789 non-null  object\n",
      " 2   location  7238 non-null   object\n",
      " 3   text      10876 non-null  object\n",
      " 4   target    10876 non-null  int64 \n",
      "dtypes: int64(2), object(3)\n",
      "memory usage: 425.0+ KB\n"
     ]
    }
   ],
   "source": [
    "test_data['target'] = False\n",
    "data = pd.concat([train_data, test_data], sort=False, ignore_index=True)\n",
    "data.info()"
   ]
  },
  {
   "cell_type": "markdown",
   "id": "e7cccd5d",
   "metadata": {
    "papermill": {
     "duration": 0.006502,
     "end_time": "2025-07-18T00:33:44.616778",
     "exception": false,
     "start_time": "2025-07-18T00:33:44.610276",
     "status": "completed"
    },
    "tags": []
   },
   "source": [
    "<h3>Cleaning Location Feature</h3>"
   ]
  },
  {
   "cell_type": "code",
   "execution_count": 7,
   "id": "c7b71da8",
   "metadata": {
    "execution": {
     "iopub.execute_input": "2025-07-18T00:33:44.632059Z",
     "iopub.status.busy": "2025-07-18T00:33:44.631186Z",
     "iopub.status.idle": "2025-07-18T00:33:44.638638Z",
     "shell.execute_reply": "2025-07-18T00:33:44.637572Z"
    },
    "papermill": {
     "duration": 0.016864,
     "end_time": "2025-07-18T00:33:44.640304",
     "exception": false,
     "start_time": "2025-07-18T00:33:44.623440",
     "status": "completed"
    },
    "tags": []
   },
   "outputs": [],
   "source": [
    "data['location'] = data['location'].fillna('Unknown')"
   ]
  },
  {
   "cell_type": "code",
   "execution_count": 8,
   "id": "07af0d00",
   "metadata": {
    "execution": {
     "iopub.execute_input": "2025-07-18T00:33:44.656261Z",
     "iopub.status.busy": "2025-07-18T00:33:44.655131Z",
     "iopub.status.idle": "2025-07-18T00:33:44.733534Z",
     "shell.execute_reply": "2025-07-18T00:33:44.732249Z"
    },
    "papermill": {
     "duration": 0.088265,
     "end_time": "2025-07-18T00:33:44.735592",
     "exception": false,
     "start_time": "2025-07-18T00:33:44.647327",
     "status": "completed"
    },
    "tags": []
   },
   "outputs": [],
   "source": [
    "# lowercase text\n",
    "data['location_clean'] = data['location'].str.lower()\n",
    "\n",
    "# remove any non words\n",
    "data['location_clean'] = data.apply(lambda x: re.sub(r'([^\\w\\s])', '', x['location_clean']), axis=1)"
   ]
  },
  {
   "cell_type": "code",
   "execution_count": 9,
   "id": "b64dcf31",
   "metadata": {
    "execution": {
     "iopub.execute_input": "2025-07-18T00:33:44.750374Z",
     "iopub.status.busy": "2025-07-18T00:33:44.749990Z",
     "iopub.status.idle": "2025-07-18T00:33:44.755319Z",
     "shell.execute_reply": "2025-07-18T00:33:44.754265Z"
    },
    "papermill": {
     "duration": 0.014783,
     "end_time": "2025-07-18T00:33:44.757055",
     "exception": false,
     "start_time": "2025-07-18T00:33:44.742272",
     "status": "completed"
    },
    "tags": []
   },
   "outputs": [],
   "source": [
    "# extracts text and ner tag for each token used for the location of each tweet\n",
    "def get_ner_vals(doc):\n",
    "    return [(token.text, token.label_) for token in doc.ents]"
   ]
  },
  {
   "cell_type": "code",
   "execution_count": 10,
   "id": "ce348656",
   "metadata": {
    "execution": {
     "iopub.execute_input": "2025-07-18T00:33:44.772158Z",
     "iopub.status.busy": "2025-07-18T00:33:44.771818Z",
     "iopub.status.idle": "2025-07-18T00:33:44.777214Z",
     "shell.execute_reply": "2025-07-18T00:33:44.776119Z"
    },
    "papermill": {
     "duration": 0.015174,
     "end_time": "2025-07-18T00:33:44.779020",
     "exception": false,
     "start_time": "2025-07-18T00:33:44.763846",
     "status": "completed"
    },
    "tags": []
   },
   "outputs": [],
   "source": [
    "# Normalizes the labels to only 5 potential labels\n",
    "def change_label_name(label):\n",
    "    LOCATION_LABELS = [\"GPE\", \"LOC\", \"FAC\"]\n",
    "    \n",
    "    if label == \"ORG\" or label == \"PERSON\":\n",
    "        return label\n",
    "    elif label in LOCATION_LABELS:\n",
    "        return \"LOCATION\" \n",
    "    elif label:\n",
    "        return \"OTHER\"\n",
    "    return \"NONE\""
   ]
  },
  {
   "cell_type": "code",
   "execution_count": 11,
   "id": "e9f0e653",
   "metadata": {
    "execution": {
     "iopub.execute_input": "2025-07-18T00:33:44.794353Z",
     "iopub.status.busy": "2025-07-18T00:33:44.794001Z",
     "iopub.status.idle": "2025-07-18T00:33:44.799282Z",
     "shell.execute_reply": "2025-07-18T00:33:44.798275Z"
    },
    "papermill": {
     "duration": 0.015008,
     "end_time": "2025-07-18T00:33:44.801056",
     "exception": false,
     "start_time": "2025-07-18T00:33:44.786048",
     "status": "completed"
    },
    "tags": []
   },
   "outputs": [],
   "source": [
    "# gets the most frequent label from the tokens to declare the phrase as that label\n",
    "def get_most_freq_label(ent_labels):\n",
    "    if len(ent_labels) == 0:\n",
    "        return \"NONE\"\n",
    "    labels_series = pd.Series(ent_labels)\n",
    "    return labels_series.value_counts().index[0]"
   ]
  },
  {
   "cell_type": "code",
   "execution_count": 12,
   "id": "5d2a42dc",
   "metadata": {
    "execution": {
     "iopub.execute_input": "2025-07-18T00:33:44.817220Z",
     "iopub.status.busy": "2025-07-18T00:33:44.816884Z",
     "iopub.status.idle": "2025-07-18T00:33:55.037939Z",
     "shell.execute_reply": "2025-07-18T00:33:55.036899Z"
    },
    "papermill": {
     "duration": 10.231583,
     "end_time": "2025-07-18T00:33:55.040149",
     "exception": false,
     "start_time": "2025-07-18T00:33:44.808566",
     "status": "completed"
    },
    "tags": []
   },
   "outputs": [],
   "source": [
    "nlp = spacy.load('en_core_web_sm')\n",
    "docs = list(nlp.pipe(data['location'].tolist(), disable=[])) # process the docs for each locaiton value\n",
    "data['ner_ents'] = [get_ner_vals(doc) for doc in docs]\n",
    "\n",
    "# extract labels from NER entities\n",
    "data['ner_labels'] = data['ner_ents'].apply(lambda ents: [change_label_name(label) for _, label in ents])\n",
    "\n",
    "# use the most frequent NER label as the label for all the tokens\n",
    "data['location_ner'] = data['ner_labels'].apply(get_most_freq_label)"
   ]
  },
  {
   "cell_type": "code",
   "execution_count": 13,
   "id": "c50fb92b",
   "metadata": {
    "execution": {
     "iopub.execute_input": "2025-07-18T00:33:55.056535Z",
     "iopub.status.busy": "2025-07-18T00:33:55.055516Z",
     "iopub.status.idle": "2025-07-18T00:33:55.073316Z",
     "shell.execute_reply": "2025-07-18T00:33:55.071960Z"
    },
    "papermill": {
     "duration": 0.027882,
     "end_time": "2025-07-18T00:33:55.075012",
     "exception": false,
     "start_time": "2025-07-18T00:33:55.047130",
     "status": "completed"
    },
    "tags": []
   },
   "outputs": [
    {
     "name": "stdout",
     "output_type": "stream",
     "text": [
      "<class 'pandas.core.frame.DataFrame'>\n",
      "RangeIndex: 10876 entries, 0 to 10875\n",
      "Data columns (total 9 columns):\n",
      " #   Column          Non-Null Count  Dtype \n",
      "---  ------          --------------  ----- \n",
      " 0   id              10876 non-null  int64 \n",
      " 1   keyword         10789 non-null  object\n",
      " 2   location        10876 non-null  object\n",
      " 3   text            10876 non-null  object\n",
      " 4   target          10876 non-null  int64 \n",
      " 5   location_clean  10876 non-null  object\n",
      " 6   ner_ents        10876 non-null  object\n",
      " 7   ner_labels      10876 non-null  object\n",
      " 8   location_ner    10876 non-null  object\n",
      "dtypes: int64(2), object(7)\n",
      "memory usage: 764.8+ KB\n"
     ]
    }
   ],
   "source": [
    "data.info()"
   ]
  },
  {
   "cell_type": "code",
   "execution_count": 14,
   "id": "2037f4df",
   "metadata": {
    "execution": {
     "iopub.execute_input": "2025-07-18T00:33:55.090563Z",
     "iopub.status.busy": "2025-07-18T00:33:55.090196Z",
     "iopub.status.idle": "2025-07-18T00:33:55.099310Z",
     "shell.execute_reply": "2025-07-18T00:33:55.098203Z"
    },
    "papermill": {
     "duration": 0.019193,
     "end_time": "2025-07-18T00:33:55.101362",
     "exception": false,
     "start_time": "2025-07-18T00:33:55.082169",
     "status": "completed"
    },
    "tags": []
   },
   "outputs": [
    {
     "data": {
      "text/plain": [
       "location_ner\n",
       "NONE        5153\n",
       "LOCATION    4016\n",
       "ORG          946\n",
       "PERSON       507\n",
       "OTHER        254\n",
       "Name: count, dtype: int64"
      ]
     },
     "execution_count": 14,
     "metadata": {},
     "output_type": "execute_result"
    }
   ],
   "source": [
    "data['location_ner'].value_counts()"
   ]
  },
  {
   "cell_type": "markdown",
   "id": "76155bef",
   "metadata": {
    "papermill": {
     "duration": 0.006808,
     "end_time": "2025-07-18T00:33:55.115697",
     "exception": false,
     "start_time": "2025-07-18T00:33:55.108889",
     "status": "completed"
    },
    "tags": []
   },
   "source": [
    "<h5>Now, we will add the location to the text to add more context to the tweet.</h5>"
   ]
  },
  {
   "cell_type": "code",
   "execution_count": 15,
   "id": "64f906b0",
   "metadata": {
    "execution": {
     "iopub.execute_input": "2025-07-18T00:33:55.133148Z",
     "iopub.status.busy": "2025-07-18T00:33:55.132790Z",
     "iopub.status.idle": "2025-07-18T00:33:55.138693Z",
     "shell.execute_reply": "2025-07-18T00:33:55.137723Z"
    },
    "papermill": {
     "duration": 0.015852,
     "end_time": "2025-07-18T00:33:55.140305",
     "exception": false,
     "start_time": "2025-07-18T00:33:55.124453",
     "status": "completed"
    },
    "tags": []
   },
   "outputs": [],
   "source": [
    "def add_location_and_text(text, location, ner_tag):\n",
    "    if ner_tag == 'LOCATION' or ner_tag == \"ORG\":\n",
    "        return text + ', [LOC] ' + location\n",
    "    else:\n",
    "        return text"
   ]
  },
  {
   "cell_type": "code",
   "execution_count": 16,
   "id": "28314174",
   "metadata": {
    "execution": {
     "iopub.execute_input": "2025-07-18T00:33:55.156454Z",
     "iopub.status.busy": "2025-07-18T00:33:55.156090Z",
     "iopub.status.idle": "2025-07-18T00:33:55.358610Z",
     "shell.execute_reply": "2025-07-18T00:33:55.357583Z"
    },
    "papermill": {
     "duration": 0.212563,
     "end_time": "2025-07-18T00:33:55.360194",
     "exception": false,
     "start_time": "2025-07-18T00:33:55.147631",
     "status": "completed"
    },
    "tags": []
   },
   "outputs": [
    {
     "data": {
      "text/html": [
       "<div>\n",
       "<style scoped>\n",
       "    .dataframe tbody tr th:only-of-type {\n",
       "        vertical-align: middle;\n",
       "    }\n",
       "\n",
       "    .dataframe tbody tr th {\n",
       "        vertical-align: top;\n",
       "    }\n",
       "\n",
       "    .dataframe thead th {\n",
       "        text-align: right;\n",
       "    }\n",
       "</style>\n",
       "<table border=\"1\" class=\"dataframe\">\n",
       "  <thead>\n",
       "    <tr style=\"text-align: right;\">\n",
       "      <th></th>\n",
       "      <th>id</th>\n",
       "      <th>keyword</th>\n",
       "      <th>location</th>\n",
       "      <th>text</th>\n",
       "      <th>target</th>\n",
       "      <th>location_clean</th>\n",
       "      <th>ner_ents</th>\n",
       "      <th>ner_labels</th>\n",
       "      <th>location_ner</th>\n",
       "      <th>text_clean</th>\n",
       "      <th>text + location</th>\n",
       "    </tr>\n",
       "  </thead>\n",
       "  <tbody>\n",
       "    <tr>\n",
       "      <th>0</th>\n",
       "      <td>1</td>\n",
       "      <td>NaN</td>\n",
       "      <td>Unknown</td>\n",
       "      <td>Our Deeds are the Reason of this #earthquake M...</td>\n",
       "      <td>1</td>\n",
       "      <td>unknown</td>\n",
       "      <td>[]</td>\n",
       "      <td>[]</td>\n",
       "      <td>NONE</td>\n",
       "      <td>our deeds are the reason of this #earthquake m...</td>\n",
       "      <td>our deeds are the reason of this #earthquake m...</td>\n",
       "    </tr>\n",
       "    <tr>\n",
       "      <th>1</th>\n",
       "      <td>4</td>\n",
       "      <td>NaN</td>\n",
       "      <td>Unknown</td>\n",
       "      <td>Forest fire near La Ronge Sask. Canada</td>\n",
       "      <td>1</td>\n",
       "      <td>unknown</td>\n",
       "      <td>[]</td>\n",
       "      <td>[]</td>\n",
       "      <td>NONE</td>\n",
       "      <td>forest fire near la ronge sask. canada</td>\n",
       "      <td>forest fire near la ronge sask. canada</td>\n",
       "    </tr>\n",
       "    <tr>\n",
       "      <th>2</th>\n",
       "      <td>5</td>\n",
       "      <td>NaN</td>\n",
       "      <td>Unknown</td>\n",
       "      <td>All residents asked to 'shelter in place' are ...</td>\n",
       "      <td>1</td>\n",
       "      <td>unknown</td>\n",
       "      <td>[]</td>\n",
       "      <td>[]</td>\n",
       "      <td>NONE</td>\n",
       "      <td>all residents asked to 'shelter in place' are ...</td>\n",
       "      <td>all residents asked to 'shelter in place' are ...</td>\n",
       "    </tr>\n",
       "    <tr>\n",
       "      <th>3</th>\n",
       "      <td>6</td>\n",
       "      <td>NaN</td>\n",
       "      <td>Unknown</td>\n",
       "      <td>13,000 people receive #wildfires evacuation or...</td>\n",
       "      <td>1</td>\n",
       "      <td>unknown</td>\n",
       "      <td>[]</td>\n",
       "      <td>[]</td>\n",
       "      <td>NONE</td>\n",
       "      <td>13,000 people receive #wildfires evacuation or...</td>\n",
       "      <td>13,000 people receive #wildfires evacuation or...</td>\n",
       "    </tr>\n",
       "    <tr>\n",
       "      <th>4</th>\n",
       "      <td>7</td>\n",
       "      <td>NaN</td>\n",
       "      <td>Unknown</td>\n",
       "      <td>Just got sent this photo from Ruby #Alaska as ...</td>\n",
       "      <td>1</td>\n",
       "      <td>unknown</td>\n",
       "      <td>[]</td>\n",
       "      <td>[]</td>\n",
       "      <td>NONE</td>\n",
       "      <td>just got sent this photo from ruby #alaska as ...</td>\n",
       "      <td>just got sent this photo from ruby #alaska as ...</td>\n",
       "    </tr>\n",
       "  </tbody>\n",
       "</table>\n",
       "</div>"
      ],
      "text/plain": [
       "   id keyword location                                               text  \\\n",
       "0   1     NaN  Unknown  Our Deeds are the Reason of this #earthquake M...   \n",
       "1   4     NaN  Unknown             Forest fire near La Ronge Sask. Canada   \n",
       "2   5     NaN  Unknown  All residents asked to 'shelter in place' are ...   \n",
       "3   6     NaN  Unknown  13,000 people receive #wildfires evacuation or...   \n",
       "4   7     NaN  Unknown  Just got sent this photo from Ruby #Alaska as ...   \n",
       "\n",
       "   target location_clean ner_ents ner_labels location_ner  \\\n",
       "0       1        unknown       []         []         NONE   \n",
       "1       1        unknown       []         []         NONE   \n",
       "2       1        unknown       []         []         NONE   \n",
       "3       1        unknown       []         []         NONE   \n",
       "4       1        unknown       []         []         NONE   \n",
       "\n",
       "                                          text_clean  \\\n",
       "0  our deeds are the reason of this #earthquake m...   \n",
       "1             forest fire near la ronge sask. canada   \n",
       "2  all residents asked to 'shelter in place' are ...   \n",
       "3  13,000 people receive #wildfires evacuation or...   \n",
       "4  just got sent this photo from ruby #alaska as ...   \n",
       "\n",
       "                                     text + location  \n",
       "0  our deeds are the reason of this #earthquake m...  \n",
       "1             forest fire near la ronge sask. canada  \n",
       "2  all residents asked to 'shelter in place' are ...  \n",
       "3  13,000 people receive #wildfires evacuation or...  \n",
       "4  just got sent this photo from ruby #alaska as ...  "
      ]
     },
     "execution_count": 16,
     "metadata": {},
     "output_type": "execute_result"
    }
   ],
   "source": [
    "# lowercase\n",
    "data['text_clean'] = data['text'].str.lower()\n",
    "data['location_clean'] = data['location'].str.lower()\n",
    "\n",
    "# remove any non words\n",
    "data['location_clean'] = data.apply(lambda x: re.sub(r'([^\\w\\s])', '', x['location_clean']), axis=1)\n",
    "\n",
    "# add both columns together if location is good\n",
    "data['text + location'] = data.apply(lambda x: add_location_and_text(x['text_clean'], x['location_clean'], x['location_ner']), axis=1)\n",
    "data.head()"
   ]
  },
  {
   "cell_type": "code",
   "execution_count": 17,
   "id": "c331eb5f",
   "metadata": {
    "execution": {
     "iopub.execute_input": "2025-07-18T00:33:55.376141Z",
     "iopub.status.busy": "2025-07-18T00:33:55.375468Z",
     "iopub.status.idle": "2025-07-18T00:33:55.382703Z",
     "shell.execute_reply": "2025-07-18T00:33:55.381759Z"
    },
    "papermill": {
     "duration": 0.016893,
     "end_time": "2025-07-18T00:33:55.384178",
     "exception": false,
     "start_time": "2025-07-18T00:33:55.367285",
     "status": "completed"
    },
    "tags": []
   },
   "outputs": [
    {
     "data": {
      "text/plain": [
       "'our deeds are the reason of this #earthquake may allah forgive us all'"
      ]
     },
     "execution_count": 17,
     "metadata": {},
     "output_type": "execute_result"
    }
   ],
   "source": [
    "data['text + location'][0]"
   ]
  },
  {
   "cell_type": "markdown",
   "id": "1f76fafa",
   "metadata": {
    "papermill": {
     "duration": 0.006683,
     "end_time": "2025-07-18T00:33:55.397813",
     "exception": false,
     "start_time": "2025-07-18T00:33:55.391130",
     "status": "completed"
    },
    "tags": []
   },
   "source": [
    "<h3>Text Preprocessing</h3>"
   ]
  },
  {
   "cell_type": "code",
   "execution_count": 18,
   "id": "8222b554",
   "metadata": {
    "execution": {
     "iopub.execute_input": "2025-07-18T00:33:55.413786Z",
     "iopub.status.busy": "2025-07-18T00:33:55.412781Z",
     "iopub.status.idle": "2025-07-18T00:33:55.493885Z",
     "shell.execute_reply": "2025-07-18T00:33:55.492484Z"
    },
    "papermill": {
     "duration": 0.090968,
     "end_time": "2025-07-18T00:33:55.495545",
     "exception": false,
     "start_time": "2025-07-18T00:33:55.404577",
     "status": "completed"
    },
    "tags": []
   },
   "outputs": [
    {
     "name": "stdout",
     "output_type": "stream",
     "text": [
      "['a', 'about', 'above', 'after', 'again', 'against', 'ain', 'all', 'am', 'an', 'and', 'any', 'are', 'aren', \"aren't\", 'as', 'at', 'be', 'because', 'been', 'before', 'being', 'below', 'between', 'both', 'but', 'by', 'can', 'couldn', \"couldn't\", 'd', 'did', 'didn', \"didn't\", 'do', 'does', 'doesn', \"doesn't\", 'doing', 'don', \"don't\", 'down', 'during', 'each', 'few', 'for', 'from', 'further', 'had', 'hadn', \"hadn't\", 'has', 'hasn', \"hasn't\", 'have', 'haven', \"haven't\", 'having', 'he', \"he'd\", \"he'll\", 'her', 'here', 'hers', 'herself', \"he's\", 'him', 'himself', 'his', 'how', 'i', \"i'd\", 'if', \"i'll\", \"i'm\", 'in', 'into', 'is', 'isn', \"isn't\", 'it', \"it'd\", \"it'll\", \"it's\", 'its', 'itself', \"i've\", 'just', 'll', 'm', 'ma', 'me', 'mightn', \"mightn't\", 'more', 'most', 'mustn', \"mustn't\", 'my', 'myself', 'needn', \"needn't\", 'no', 'nor', 'not', 'now', 'o', 'of', 'off', 'on', 'once', 'only', 'or', 'other', 'our', 'ours', 'ourselves', 'out', 'over', 'own', 're', 's', 'same', 'shan', \"shan't\", 'she', \"she'd\", \"she'll\", \"she's\", 'should', 'shouldn', \"shouldn't\", \"should've\", 'so', 'some', 'such', 't', 'than', 'that', \"that'll\", 'the', 'their', 'theirs', 'them', 'themselves', 'then', 'there', 'these', 'they', \"they'd\", \"they'll\", \"they're\", \"they've\", 'this', 'those', 'through', 'to', 'too', 'under', 'until', 'up', 've', 'very', 'was', 'wasn', \"wasn't\", 'we', \"we'd\", \"we'll\", \"we're\", 'were', 'weren', \"weren't\", \"we've\", 'what', 'when', 'where', 'which', 'while', 'who', 'whom', 'why', 'will', 'with', 'won', \"won't\", 'wouldn', \"wouldn't\", 'y', 'you', \"you'd\", \"you'll\", 'your', \"you're\", 'yours', 'yourself', 'yourselves', \"you've\"]\n"
     ]
    },
    {
     "name": "stderr",
     "output_type": "stream",
     "text": [
      "[nltk_data] Downloading package stopwords to /usr/share/nltk_data...\n",
      "[nltk_data]   Package stopwords is already up-to-date!\n"
     ]
    }
   ],
   "source": [
    "nltk.download('stopwords')\n",
    "en_stopwords = stopwords.words('english')\n",
    "print(en_stopwords)"
   ]
  },
  {
   "cell_type": "code",
   "execution_count": 19,
   "id": "fa9806fb",
   "metadata": {
    "execution": {
     "iopub.execute_input": "2025-07-18T00:33:55.510860Z",
     "iopub.status.busy": "2025-07-18T00:33:55.510549Z",
     "iopub.status.idle": "2025-07-18T00:33:56.163172Z",
     "shell.execute_reply": "2025-07-18T00:33:56.162048Z"
    },
    "papermill": {
     "duration": 0.662376,
     "end_time": "2025-07-18T00:33:56.165026",
     "exception": false,
     "start_time": "2025-07-18T00:33:55.502650",
     "status": "completed"
    },
    "tags": []
   },
   "outputs": [],
   "source": [
    "# remove links from the text\n",
    "data['text_loc_clean'] = data.apply(lambda x: re.sub(r'http\\S+|www\\.\\S+', '', x['text + location']), axis=1)\n",
    "\n",
    "# remove any special character or non words\n",
    "data['text_loc_clean'] = data.apply(lambda x: re.sub(r'([^\\w\\s])', \"\", x['text_loc_clean']), axis=1)\n",
    "\n",
    "# remove stopwords\n",
    "data['text_loc_clean'] = data['text_loc_clean'].apply(lambda x: ' '.join([word for word in x.split() if word not in (en_stopwords)]))\n",
    "\n",
    "\n",
    "\n",
    "train_tweets = data['text_loc_clean'][:train_data.shape[0]].copy().tolist()\n",
    "train_labels = data['target'][:train_data.shape[0]].copy().tolist()\n",
    "test_tweets = data['text_loc_clean'][train_data.shape[0]:].copy().tolist()"
   ]
  },
  {
   "cell_type": "markdown",
   "id": "33059f68",
   "metadata": {
    "papermill": {
     "duration": 0.006575,
     "end_time": "2025-07-18T00:33:56.178576",
     "exception": false,
     "start_time": "2025-07-18T00:33:56.172001",
     "status": "completed"
    },
    "tags": []
   },
   "source": [
    "<h5>Tokenizes them by returning input ids that come from the vocabulary of the BERT model being used. Attention Mask shows what is padding and what isn't (1 for actual words, 0 for padding).</h5>"
   ]
  },
  {
   "cell_type": "code",
   "execution_count": 20,
   "id": "4a99df8a",
   "metadata": {
    "execution": {
     "iopub.execute_input": "2025-07-18T00:33:56.194105Z",
     "iopub.status.busy": "2025-07-18T00:33:56.193734Z",
     "iopub.status.idle": "2025-07-18T00:33:56.202618Z",
     "shell.execute_reply": "2025-07-18T00:33:56.201693Z"
    },
    "papermill": {
     "duration": 0.0184,
     "end_time": "2025-07-18T00:33:56.204024",
     "exception": false,
     "start_time": "2025-07-18T00:33:56.185624",
     "status": "completed"
    },
    "tags": []
   },
   "outputs": [],
   "source": [
    "train_X, val_X, train_y, val_y = train_test_split(train_tweets, train_labels, test_size=0.2)"
   ]
  },
  {
   "cell_type": "code",
   "execution_count": 21,
   "id": "f4a150e3",
   "metadata": {
    "execution": {
     "iopub.execute_input": "2025-07-18T00:33:56.219375Z",
     "iopub.status.busy": "2025-07-18T00:33:56.218984Z",
     "iopub.status.idle": "2025-07-18T00:33:58.531219Z",
     "shell.execute_reply": "2025-07-18T00:33:58.530145Z"
    },
    "papermill": {
     "duration": 2.322195,
     "end_time": "2025-07-18T00:33:58.533112",
     "exception": false,
     "start_time": "2025-07-18T00:33:56.210917",
     "status": "completed"
    },
    "tags": []
   },
   "outputs": [
    {
     "data": {
      "application/vnd.jupyter.widget-view+json": {
       "model_id": "7e3ffe25b3b14e07a3abefd233fd6ae5",
       "version_major": 2,
       "version_minor": 0
      },
      "text/plain": [
       "tokenizer_config.json:   0%|          | 0.00/25.0 [00:00<?, ?B/s]"
      ]
     },
     "metadata": {},
     "output_type": "display_data"
    },
    {
     "data": {
      "application/vnd.jupyter.widget-view+json": {
       "model_id": "edb5a16c612b4b339758a47f43e45cc9",
       "version_major": 2,
       "version_minor": 0
      },
      "text/plain": [
       "config.json:   0%|          | 0.00/481 [00:00<?, ?B/s]"
      ]
     },
     "metadata": {},
     "output_type": "display_data"
    },
    {
     "data": {
      "application/vnd.jupyter.widget-view+json": {
       "model_id": "a06ac078af264e2f8a2c35f49c091e64",
       "version_major": 2,
       "version_minor": 0
      },
      "text/plain": [
       "vocab.json:   0%|          | 0.00/899k [00:00<?, ?B/s]"
      ]
     },
     "metadata": {},
     "output_type": "display_data"
    },
    {
     "data": {
      "application/vnd.jupyter.widget-view+json": {
       "model_id": "42a057f70b89499695379ef8c8fdb1cd",
       "version_major": 2,
       "version_minor": 0
      },
      "text/plain": [
       "merges.txt:   0%|          | 0.00/456k [00:00<?, ?B/s]"
      ]
     },
     "metadata": {},
     "output_type": "display_data"
    },
    {
     "data": {
      "application/vnd.jupyter.widget-view+json": {
       "model_id": "4ad5f0fdc1d54183be88070bf8273828",
       "version_major": 2,
       "version_minor": 0
      },
      "text/plain": [
       "tokenizer.json:   0%|          | 0.00/1.36M [00:00<?, ?B/s]"
      ]
     },
     "metadata": {},
     "output_type": "display_data"
    }
   ],
   "source": [
    "model_name = \"roberta-base\"\n",
    "tokenizer = AutoTokenizer.from_pretrained(model_name)\n",
    "\n",
    "# Tokenize the tweets (using pt tensors since we are using PyTorch and Hugging Face BERT models)\n",
    "# they require the input to be the same tensor type when loading model (DL framework provided by hugging face)\n",
    "train_encodings = tokenizer(train_X, padding=True, truncation=True, return_tensors=\"pt\")\n",
    "val_encodings = tokenizer(val_X, padding=True, truncation=True, return_tensors=\"pt\")"
   ]
  },
  {
   "cell_type": "markdown",
   "id": "ebe0a2a8",
   "metadata": {
    "papermill": {
     "duration": 0.007253,
     "end_time": "2025-07-18T00:33:58.548801",
     "exception": false,
     "start_time": "2025-07-18T00:33:58.541548",
     "status": "completed"
    },
    "tags": []
   },
   "source": [
    "<h3>Create Custom Dataset</h3>"
   ]
  },
  {
   "cell_type": "markdown",
   "id": "9f2b642d",
   "metadata": {
    "papermill": {
     "duration": 0.007307,
     "end_time": "2025-07-18T00:33:58.563649",
     "exception": false,
     "start_time": "2025-07-18T00:33:58.556342",
     "status": "completed"
    },
    "tags": []
   },
   "source": [
    "<h5>Need to create dataset to use for GPU optimization so that the GPU does not have to wait for the CPU to process the batches so they can be trained on the GPU. CPU works in parallel with the GPU. GPU handles to computation like matrix multiplication and forward pass and back prop, while CPU handles the data preprocessing and loading into batches for the GPU to use for those computations.</h5>"
   ]
  },
  {
   "cell_type": "markdown",
   "id": "31b827f3",
   "metadata": {
    "papermill": {
     "duration": 0.007776,
     "end_time": "2025-07-18T00:33:58.579508",
     "exception": false,
     "start_time": "2025-07-18T00:33:58.571732",
     "status": "completed"
    },
    "tags": []
   },
   "source": [
    "<h5>Also, batches contain a certain number of sample that represent each tweet along with its target label. DataLoader is able to handle all of this.</h5>"
   ]
  },
  {
   "cell_type": "code",
   "execution_count": 22,
   "id": "477061ac",
   "metadata": {
    "execution": {
     "iopub.execute_input": "2025-07-18T00:33:58.676772Z",
     "iopub.status.busy": "2025-07-18T00:33:58.676352Z",
     "iopub.status.idle": "2025-07-18T00:33:58.684064Z",
     "shell.execute_reply": "2025-07-18T00:33:58.682777Z"
    },
    "papermill": {
     "duration": 0.018826,
     "end_time": "2025-07-18T00:33:58.686305",
     "exception": false,
     "start_time": "2025-07-18T00:33:58.667479",
     "status": "completed"
    },
    "tags": []
   },
   "outputs": [],
   "source": [
    "class TweetDataset(Dataset):\n",
    "    def __init__(self, encodings, labels):\n",
    "        self.encodings = encodings\n",
    "        self.labels = labels\n",
    "\n",
    "    # tells you how many sample are in your dataset (needed by DataLoader to know\n",
    "    # when an epoch (one pass through dataset) ends)\n",
    "    # an update per batch (backprop)\n",
    "    def __len__(self):\n",
    "        return len(self.labels)\n",
    "\n",
    "    # returns one sample using its index (a single data point)\n",
    "    # used by DataLoader to create batches\n",
    "    # goes through input ids and attention masks to create a dictionary that describes the sample\n",
    "    def __getitem__(self, idx):\n",
    "        item = {k: v[idx] for k, v in self.encodings.items()}\n",
    "        item['labels'] = torch.tensor(self.labels[idx])\n",
    "        return item"
   ]
  },
  {
   "cell_type": "code",
   "execution_count": 23,
   "id": "522a7f2e",
   "metadata": {
    "execution": {
     "iopub.execute_input": "2025-07-18T00:33:58.704309Z",
     "iopub.status.busy": "2025-07-18T00:33:58.703934Z",
     "iopub.status.idle": "2025-07-18T00:33:58.709417Z",
     "shell.execute_reply": "2025-07-18T00:33:58.708276Z"
    },
    "papermill": {
     "duration": 0.017339,
     "end_time": "2025-07-18T00:33:58.711508",
     "exception": false,
     "start_time": "2025-07-18T00:33:58.694169",
     "status": "completed"
    },
    "tags": []
   },
   "outputs": [],
   "source": [
    "train_dataset = TweetDataset(train_encodings, train_y)\n",
    "val_dataset = TweetDataset(val_encodings, val_y)"
   ]
  },
  {
   "cell_type": "markdown",
   "id": "30e4f3ef",
   "metadata": {
    "papermill": {
     "duration": 0.008118,
     "end_time": "2025-07-18T00:33:58.728581",
     "exception": false,
     "start_time": "2025-07-18T00:33:58.720463",
     "status": "completed"
    },
    "tags": []
   },
   "source": [
    "<h3>Model Finetuning</h3>"
   ]
  },
  {
   "cell_type": "markdown",
   "id": "584570ff",
   "metadata": {
    "papermill": {
     "duration": 0.007755,
     "end_time": "2025-07-18T00:33:58.744490",
     "exception": false,
     "start_time": "2025-07-18T00:33:58.736735",
     "status": "completed"
    },
    "tags": []
   },
   "source": [
    "<h5>Need training arguments to tell Trainer how to train your model.\n",
    "Its like a recipe for training: batch size, number of epochs, where to save results, etc.</h5>"
   ]
  },
  {
   "cell_type": "code",
   "execution_count": 24,
   "id": "982870cc",
   "metadata": {
    "execution": {
     "iopub.execute_input": "2025-07-18T00:33:58.762224Z",
     "iopub.status.busy": "2025-07-18T00:33:58.761870Z",
     "iopub.status.idle": "2025-07-18T00:33:58.767145Z",
     "shell.execute_reply": "2025-07-18T00:33:58.766103Z"
    },
    "papermill": {
     "duration": 0.016201,
     "end_time": "2025-07-18T00:33:58.768947",
     "exception": false,
     "start_time": "2025-07-18T00:33:58.752746",
     "status": "completed"
    },
    "tags": []
   },
   "outputs": [],
   "source": [
    "# training_args = TrainingArguments(\n",
    "#     output_dir=\"/kaggle/working/results\",\n",
    "#     per_device_train_batch_size=16,\n",
    "#     per_device_eval_batch_size=16,\n",
    "#     num_train_epochs=3,\n",
    "#     evaluation_strategy=\"epoch\", # when to evaluate and update framework\n",
    "#     save_strategy=\"epoch\",\n",
    "#     load_best_model_at_end=True,\n",
    "#     metric_for_best_model=\"f1\",\n",
    "#     logging_steps=50,\n",
    "#     fp16=torch.cuda.is_available(),  # mixed precision if supported\n",
    "# )"
   ]
  },
  {
   "cell_type": "code",
   "execution_count": 25,
   "id": "97780455",
   "metadata": {
    "execution": {
     "iopub.execute_input": "2025-07-18T00:33:58.786912Z",
     "iopub.status.busy": "2025-07-18T00:33:58.786510Z",
     "iopub.status.idle": "2025-07-18T00:33:58.791222Z",
     "shell.execute_reply": "2025-07-18T00:33:58.790114Z"
    },
    "papermill": {
     "duration": 0.015724,
     "end_time": "2025-07-18T00:33:58.793090",
     "exception": false,
     "start_time": "2025-07-18T00:33:58.777366",
     "status": "completed"
    },
    "tags": []
   },
   "outputs": [],
   "source": [
    "# def compute_metrics(eval_pred):\n",
    "#     logits, labels = eval_pred\n",
    "#     preds = np.argmax(logits, axis=1)\n",
    "#     return {\n",
    "#         \"f1\": f1_score(labels, preds, average=\"weighted\")\n",
    "#     }"
   ]
  },
  {
   "cell_type": "code",
   "execution_count": 26,
   "id": "10726ea7",
   "metadata": {
    "execution": {
     "iopub.execute_input": "2025-07-18T00:33:58.812879Z",
     "iopub.status.busy": "2025-07-18T00:33:58.812451Z",
     "iopub.status.idle": "2025-07-18T00:33:58.817551Z",
     "shell.execute_reply": "2025-07-18T00:33:58.816214Z"
    },
    "papermill": {
     "duration": 0.016954,
     "end_time": "2025-07-18T00:33:58.819383",
     "exception": false,
     "start_time": "2025-07-18T00:33:58.802429",
     "status": "completed"
    },
    "tags": []
   },
   "outputs": [],
   "source": [
    "# data_collator = DataCollatorWithPadding(tokenizer=tokenizer)"
   ]
  },
  {
   "cell_type": "code",
   "execution_count": 27,
   "id": "fa01cbfa",
   "metadata": {
    "execution": {
     "iopub.execute_input": "2025-07-18T00:33:58.837819Z",
     "iopub.status.busy": "2025-07-18T00:33:58.837474Z",
     "iopub.status.idle": "2025-07-18T00:33:58.842630Z",
     "shell.execute_reply": "2025-07-18T00:33:58.841602Z"
    },
    "papermill": {
     "duration": 0.016077,
     "end_time": "2025-07-18T00:33:58.844349",
     "exception": false,
     "start_time": "2025-07-18T00:33:58.828272",
     "status": "completed"
    },
    "tags": []
   },
   "outputs": [],
   "source": [
    "# trainer = Trainer(\n",
    "#     model=model,\n",
    "#     args=training_args,\n",
    "#     train_dataset=train_dataset,\n",
    "#     eval_dataset=val_dataset,\n",
    "#     data_collator=data_collator,\n",
    "#     tokenizer=tokenizer,          # optional but helps with logging & saving\n",
    "#     compute_metrics=compute_metrics,\n",
    "# )\n",
    "\n",
    "# trainer.train()\n",
    "# eval_results = trainer.evaluate()\n",
    "# print(\"Results: \", eval_results)"
   ]
  },
  {
   "cell_type": "markdown",
   "id": "db5fdef8",
   "metadata": {
    "papermill": {
     "duration": 0.007623,
     "end_time": "2025-07-18T00:33:58.860233",
     "exception": false,
     "start_time": "2025-07-18T00:33:58.852610",
     "status": "completed"
    },
    "tags": []
   },
   "source": [
    "<h3>Model Testing</h3>"
   ]
  },
  {
   "cell_type": "code",
   "execution_count": null,
   "id": "c49343b7",
   "metadata": {
    "papermill": {
     "duration": 0.007522,
     "end_time": "2025-07-18T00:33:58.875857",
     "exception": false,
     "start_time": "2025-07-18T00:33:58.868335",
     "status": "completed"
    },
    "tags": []
   },
   "outputs": [],
   "source": []
  }
 ],
 "metadata": {
  "kaggle": {
   "accelerator": "none",
   "dataSources": [
    {
     "datasetId": 7875420,
     "sourceId": 12481343,
     "sourceType": "datasetVersion"
    }
   ],
   "dockerImageVersionId": 31089,
   "isGpuEnabled": false,
   "isInternetEnabled": true,
   "language": "python",
   "sourceType": "notebook"
  },
  "kernelspec": {
   "display_name": "Python 3",
   "language": "python",
   "name": "python3"
  },
  "language_info": {
   "codemirror_mode": {
    "name": "ipython",
    "version": 3
   },
   "file_extension": ".py",
   "mimetype": "text/x-python",
   "name": "python",
   "nbconvert_exporter": "python",
   "pygments_lexer": "ipython3",
   "version": "3.11.13"
  },
  "papermill": {
   "default_parameters": {},
   "duration": 73.370366,
   "end_time": "2025-07-18T00:34:02.299833",
   "environment_variables": {},
   "exception": null,
   "input_path": "__notebook__.ipynb",
   "output_path": "__notebook__.ipynb",
   "parameters": {},
   "start_time": "2025-07-18T00:32:48.929467",
   "version": "2.6.0"
  },
  "widgets": {
   "application/vnd.jupyter.widget-state+json": {
    "state": {
     "0893a09c949841e2849656b1e7684953": {
      "model_module": "@jupyter-widgets/controls",
      "model_module_version": "2.0.0",
      "model_name": "FloatProgressModel",
      "state": {
       "_dom_classes": [],
       "_model_module": "@jupyter-widgets/controls",
       "_model_module_version": "2.0.0",
       "_model_name": "FloatProgressModel",
       "_view_count": null,
       "_view_module": "@jupyter-widgets/controls",
       "_view_module_version": "2.0.0",
       "_view_name": "ProgressView",
       "bar_style": "success",
       "description": "",
       "description_allow_html": false,
       "layout": "IPY_MODEL_3a882d30667345bea8e03c3bdd42303d",
       "max": 25.0,
       "min": 0.0,
       "orientation": "horizontal",
       "style": "IPY_MODEL_6b054cc97ffe43afaba2631040e44b4f",
       "tabbable": null,
       "tooltip": null,
       "value": 25.0
      }
     },
     "0b4018ed074a438bbc8c21d7d88ff2a3": {
      "model_module": "@jupyter-widgets/controls",
      "model_module_version": "2.0.0",
      "model_name": "HTMLModel",
      "state": {
       "_dom_classes": [],
       "_model_module": "@jupyter-widgets/controls",
       "_model_module_version": "2.0.0",
       "_model_name": "HTMLModel",
       "_view_count": null,
       "_view_module": "@jupyter-widgets/controls",
       "_view_module_version": "2.0.0",
       "_view_name": "HTMLView",
       "description": "",
       "description_allow_html": false,
       "layout": "IPY_MODEL_f48c7b53fa2b42df9089a9b310c261aa",
       "placeholder": "​",
       "style": "IPY_MODEL_c159ea2da8b1498faa9aca72df01a165",
       "tabbable": null,
       "tooltip": null,
       "value": "merges.txt: 100%"
      }
     },
     "1043eb745a144d84919baaf576a709fd": {
      "model_module": "@jupyter-widgets/controls",
      "model_module_version": "2.0.0",
      "model_name": "HTMLModel",
      "state": {
       "_dom_classes": [],
       "_model_module": "@jupyter-widgets/controls",
       "_model_module_version": "2.0.0",
       "_model_name": "HTMLModel",
       "_view_count": null,
       "_view_module": "@jupyter-widgets/controls",
       "_view_module_version": "2.0.0",
       "_view_name": "HTMLView",
       "description": "",
       "description_allow_html": false,
       "layout": "IPY_MODEL_b85ccd4a85614a8d8b3864a22d8aa902",
       "placeholder": "​",
       "style": "IPY_MODEL_e226f84c046a4835af3ad3e6d7298c9f",
       "tabbable": null,
       "tooltip": null,
       "value": " 25.0/25.0 [00:00&lt;00:00, 2.33kB/s]"
      }
     },
     "1225ba08cb32465d9243a034ae3f6893": {
      "model_module": "@jupyter-widgets/base",
      "model_module_version": "2.0.0",
      "model_name": "LayoutModel",
      "state": {
       "_model_module": "@jupyter-widgets/base",
       "_model_module_version": "2.0.0",
       "_model_name": "LayoutModel",
       "_view_count": null,
       "_view_module": "@jupyter-widgets/base",
       "_view_module_version": "2.0.0",
       "_view_name": "LayoutView",
       "align_content": null,
       "align_items": null,
       "align_self": null,
       "border_bottom": null,
       "border_left": null,
       "border_right": null,
       "border_top": null,
       "bottom": null,
       "display": null,
       "flex": null,
       "flex_flow": null,
       "grid_area": null,
       "grid_auto_columns": null,
       "grid_auto_flow": null,
       "grid_auto_rows": null,
       "grid_column": null,
       "grid_gap": null,
       "grid_row": null,
       "grid_template_areas": null,
       "grid_template_columns": null,
       "grid_template_rows": null,
       "height": null,
       "justify_content": null,
       "justify_items": null,
       "left": null,
       "margin": null,
       "max_height": null,
       "max_width": null,
       "min_height": null,
       "min_width": null,
       "object_fit": null,
       "object_position": null,
       "order": null,
       "overflow": null,
       "padding": null,
       "right": null,
       "top": null,
       "visibility": null,
       "width": null
      }
     },
     "1932ff9f8827452d967b82cdc952cd6b": {
      "model_module": "@jupyter-widgets/base",
      "model_module_version": "2.0.0",
      "model_name": "LayoutModel",
      "state": {
       "_model_module": "@jupyter-widgets/base",
       "_model_module_version": "2.0.0",
       "_model_name": "LayoutModel",
       "_view_count": null,
       "_view_module": "@jupyter-widgets/base",
       "_view_module_version": "2.0.0",
       "_view_name": "LayoutView",
       "align_content": null,
       "align_items": null,
       "align_self": null,
       "border_bottom": null,
       "border_left": null,
       "border_right": null,
       "border_top": null,
       "bottom": null,
       "display": null,
       "flex": null,
       "flex_flow": null,
       "grid_area": null,
       "grid_auto_columns": null,
       "grid_auto_flow": null,
       "grid_auto_rows": null,
       "grid_column": null,
       "grid_gap": null,
       "grid_row": null,
       "grid_template_areas": null,
       "grid_template_columns": null,
       "grid_template_rows": null,
       "height": null,
       "justify_content": null,
       "justify_items": null,
       "left": null,
       "margin": null,
       "max_height": null,
       "max_width": null,
       "min_height": null,
       "min_width": null,
       "object_fit": null,
       "object_position": null,
       "order": null,
       "overflow": null,
       "padding": null,
       "right": null,
       "top": null,
       "visibility": null,
       "width": null
      }
     },
     "1e22254630944ce6aaa9f576a4210bcd": {
      "model_module": "@jupyter-widgets/controls",
      "model_module_version": "2.0.0",
      "model_name": "HTMLModel",
      "state": {
       "_dom_classes": [],
       "_model_module": "@jupyter-widgets/controls",
       "_model_module_version": "2.0.0",
       "_model_name": "HTMLModel",
       "_view_count": null,
       "_view_module": "@jupyter-widgets/controls",
       "_view_module_version": "2.0.0",
       "_view_name": "HTMLView",
       "description": "",
       "description_allow_html": false,
       "layout": "IPY_MODEL_bc84844bf78d4fc592e4fdaf1b204d57",
       "placeholder": "​",
       "style": "IPY_MODEL_51db41d3989c4bbfa6831dc75b484608",
       "tabbable": null,
       "tooltip": null,
       "value": "vocab.json: 100%"
      }
     },
     "33bda92e84f940ef8f03e4712469dab9": {
      "model_module": "@jupyter-widgets/controls",
      "model_module_version": "2.0.0",
      "model_name": "HTMLStyleModel",
      "state": {
       "_model_module": "@jupyter-widgets/controls",
       "_model_module_version": "2.0.0",
       "_model_name": "HTMLStyleModel",
       "_view_count": null,
       "_view_module": "@jupyter-widgets/base",
       "_view_module_version": "2.0.0",
       "_view_name": "StyleView",
       "background": null,
       "description_width": "",
       "font_size": null,
       "text_color": null
      }
     },
     "35e18d3f5f9d4bbf82f9137e41604c9c": {
      "model_module": "@jupyter-widgets/base",
      "model_module_version": "2.0.0",
      "model_name": "LayoutModel",
      "state": {
       "_model_module": "@jupyter-widgets/base",
       "_model_module_version": "2.0.0",
       "_model_name": "LayoutModel",
       "_view_count": null,
       "_view_module": "@jupyter-widgets/base",
       "_view_module_version": "2.0.0",
       "_view_name": "LayoutView",
       "align_content": null,
       "align_items": null,
       "align_self": null,
       "border_bottom": null,
       "border_left": null,
       "border_right": null,
       "border_top": null,
       "bottom": null,
       "display": null,
       "flex": null,
       "flex_flow": null,
       "grid_area": null,
       "grid_auto_columns": null,
       "grid_auto_flow": null,
       "grid_auto_rows": null,
       "grid_column": null,
       "grid_gap": null,
       "grid_row": null,
       "grid_template_areas": null,
       "grid_template_columns": null,
       "grid_template_rows": null,
       "height": null,
       "justify_content": null,
       "justify_items": null,
       "left": null,
       "margin": null,
       "max_height": null,
       "max_width": null,
       "min_height": null,
       "min_width": null,
       "object_fit": null,
       "object_position": null,
       "order": null,
       "overflow": null,
       "padding": null,
       "right": null,
       "top": null,
       "visibility": null,
       "width": null
      }
     },
     "36101c9b347c46419e39f0c042db84f6": {
      "model_module": "@jupyter-widgets/base",
      "model_module_version": "2.0.0",
      "model_name": "LayoutModel",
      "state": {
       "_model_module": "@jupyter-widgets/base",
       "_model_module_version": "2.0.0",
       "_model_name": "LayoutModel",
       "_view_count": null,
       "_view_module": "@jupyter-widgets/base",
       "_view_module_version": "2.0.0",
       "_view_name": "LayoutView",
       "align_content": null,
       "align_items": null,
       "align_self": null,
       "border_bottom": null,
       "border_left": null,
       "border_right": null,
       "border_top": null,
       "bottom": null,
       "display": null,
       "flex": null,
       "flex_flow": null,
       "grid_area": null,
       "grid_auto_columns": null,
       "grid_auto_flow": null,
       "grid_auto_rows": null,
       "grid_column": null,
       "grid_gap": null,
       "grid_row": null,
       "grid_template_areas": null,
       "grid_template_columns": null,
       "grid_template_rows": null,
       "height": null,
       "justify_content": null,
       "justify_items": null,
       "left": null,
       "margin": null,
       "max_height": null,
       "max_width": null,
       "min_height": null,
       "min_width": null,
       "object_fit": null,
       "object_position": null,
       "order": null,
       "overflow": null,
       "padding": null,
       "right": null,
       "top": null,
       "visibility": null,
       "width": null
      }
     },
     "36241b489e5e4616804d1fc3cfb33b24": {
      "model_module": "@jupyter-widgets/controls",
      "model_module_version": "2.0.0",
      "model_name": "HTMLModel",
      "state": {
       "_dom_classes": [],
       "_model_module": "@jupyter-widgets/controls",
       "_model_module_version": "2.0.0",
       "_model_name": "HTMLModel",
       "_view_count": null,
       "_view_module": "@jupyter-widgets/controls",
       "_view_module_version": "2.0.0",
       "_view_name": "HTMLView",
       "description": "",
       "description_allow_html": false,
       "layout": "IPY_MODEL_1225ba08cb32465d9243a034ae3f6893",
       "placeholder": "​",
       "style": "IPY_MODEL_4a6632acb89445b5bb843929ffbd4358",
       "tabbable": null,
       "tooltip": null,
       "value": "tokenizer.json: 100%"
      }
     },
     "384e77a162824eb0aec81c4fba4e11db": {
      "model_module": "@jupyter-widgets/controls",
      "model_module_version": "2.0.0",
      "model_name": "HTMLStyleModel",
      "state": {
       "_model_module": "@jupyter-widgets/controls",
       "_model_module_version": "2.0.0",
       "_model_name": "HTMLStyleModel",
       "_view_count": null,
       "_view_module": "@jupyter-widgets/base",
       "_view_module_version": "2.0.0",
       "_view_name": "StyleView",
       "background": null,
       "description_width": "",
       "font_size": null,
       "text_color": null
      }
     },
     "3a882d30667345bea8e03c3bdd42303d": {
      "model_module": "@jupyter-widgets/base",
      "model_module_version": "2.0.0",
      "model_name": "LayoutModel",
      "state": {
       "_model_module": "@jupyter-widgets/base",
       "_model_module_version": "2.0.0",
       "_model_name": "LayoutModel",
       "_view_count": null,
       "_view_module": "@jupyter-widgets/base",
       "_view_module_version": "2.0.0",
       "_view_name": "LayoutView",
       "align_content": null,
       "align_items": null,
       "align_self": null,
       "border_bottom": null,
       "border_left": null,
       "border_right": null,
       "border_top": null,
       "bottom": null,
       "display": null,
       "flex": null,
       "flex_flow": null,
       "grid_area": null,
       "grid_auto_columns": null,
       "grid_auto_flow": null,
       "grid_auto_rows": null,
       "grid_column": null,
       "grid_gap": null,
       "grid_row": null,
       "grid_template_areas": null,
       "grid_template_columns": null,
       "grid_template_rows": null,
       "height": null,
       "justify_content": null,
       "justify_items": null,
       "left": null,
       "margin": null,
       "max_height": null,
       "max_width": null,
       "min_height": null,
       "min_width": null,
       "object_fit": null,
       "object_position": null,
       "order": null,
       "overflow": null,
       "padding": null,
       "right": null,
       "top": null,
       "visibility": null,
       "width": null
      }
     },
     "42a057f70b89499695379ef8c8fdb1cd": {
      "model_module": "@jupyter-widgets/controls",
      "model_module_version": "2.0.0",
      "model_name": "HBoxModel",
      "state": {
       "_dom_classes": [],
       "_model_module": "@jupyter-widgets/controls",
       "_model_module_version": "2.0.0",
       "_model_name": "HBoxModel",
       "_view_count": null,
       "_view_module": "@jupyter-widgets/controls",
       "_view_module_version": "2.0.0",
       "_view_name": "HBoxView",
       "box_style": "",
       "children": [
        "IPY_MODEL_0b4018ed074a438bbc8c21d7d88ff2a3",
        "IPY_MODEL_bec903d4fab64e098ac8b4de7c3b8d5d",
        "IPY_MODEL_bc4239565d884387b18723fa21c79b8b"
       ],
       "layout": "IPY_MODEL_af48b7c5a1d840bc81225d5cdfdc2c05",
       "tabbable": null,
       "tooltip": null
      }
     },
     "45828208d93b4506996a2962527577d2": {
      "model_module": "@jupyter-widgets/controls",
      "model_module_version": "2.0.0",
      "model_name": "HTMLStyleModel",
      "state": {
       "_model_module": "@jupyter-widgets/controls",
       "_model_module_version": "2.0.0",
       "_model_name": "HTMLStyleModel",
       "_view_count": null,
       "_view_module": "@jupyter-widgets/base",
       "_view_module_version": "2.0.0",
       "_view_name": "StyleView",
       "background": null,
       "description_width": "",
       "font_size": null,
       "text_color": null
      }
     },
     "4a6632acb89445b5bb843929ffbd4358": {
      "model_module": "@jupyter-widgets/controls",
      "model_module_version": "2.0.0",
      "model_name": "HTMLStyleModel",
      "state": {
       "_model_module": "@jupyter-widgets/controls",
       "_model_module_version": "2.0.0",
       "_model_name": "HTMLStyleModel",
       "_view_count": null,
       "_view_module": "@jupyter-widgets/base",
       "_view_module_version": "2.0.0",
       "_view_name": "StyleView",
       "background": null,
       "description_width": "",
       "font_size": null,
       "text_color": null
      }
     },
     "4ad5f0fdc1d54183be88070bf8273828": {
      "model_module": "@jupyter-widgets/controls",
      "model_module_version": "2.0.0",
      "model_name": "HBoxModel",
      "state": {
       "_dom_classes": [],
       "_model_module": "@jupyter-widgets/controls",
       "_model_module_version": "2.0.0",
       "_model_name": "HBoxModel",
       "_view_count": null,
       "_view_module": "@jupyter-widgets/controls",
       "_view_module_version": "2.0.0",
       "_view_name": "HBoxView",
       "box_style": "",
       "children": [
        "IPY_MODEL_36241b489e5e4616804d1fc3cfb33b24",
        "IPY_MODEL_aa121c6c14bb4d61b6a95adbbe3f16ca",
        "IPY_MODEL_6c65f41fa088444097a498239205b8c1"
       ],
       "layout": "IPY_MODEL_60203f5c90cb4c9c992a16b963387014",
       "tabbable": null,
       "tooltip": null
      }
     },
     "51db41d3989c4bbfa6831dc75b484608": {
      "model_module": "@jupyter-widgets/controls",
      "model_module_version": "2.0.0",
      "model_name": "HTMLStyleModel",
      "state": {
       "_model_module": "@jupyter-widgets/controls",
       "_model_module_version": "2.0.0",
       "_model_name": "HTMLStyleModel",
       "_view_count": null,
       "_view_module": "@jupyter-widgets/base",
       "_view_module_version": "2.0.0",
       "_view_name": "StyleView",
       "background": null,
       "description_width": "",
       "font_size": null,
       "text_color": null
      }
     },
     "521787a5e31e40c291ae9458524a1521": {
      "model_module": "@jupyter-widgets/controls",
      "model_module_version": "2.0.0",
      "model_name": "ProgressStyleModel",
      "state": {
       "_model_module": "@jupyter-widgets/controls",
       "_model_module_version": "2.0.0",
       "_model_name": "ProgressStyleModel",
       "_view_count": null,
       "_view_module": "@jupyter-widgets/base",
       "_view_module_version": "2.0.0",
       "_view_name": "StyleView",
       "bar_color": null,
       "description_width": ""
      }
     },
     "53f164a059814e528fedf14f3a207238": {
      "model_module": "@jupyter-widgets/controls",
      "model_module_version": "2.0.0",
      "model_name": "HTMLStyleModel",
      "state": {
       "_model_module": "@jupyter-widgets/controls",
       "_model_module_version": "2.0.0",
       "_model_name": "HTMLStyleModel",
       "_view_count": null,
       "_view_module": "@jupyter-widgets/base",
       "_view_module_version": "2.0.0",
       "_view_name": "StyleView",
       "background": null,
       "description_width": "",
       "font_size": null,
       "text_color": null
      }
     },
     "60203f5c90cb4c9c992a16b963387014": {
      "model_module": "@jupyter-widgets/base",
      "model_module_version": "2.0.0",
      "model_name": "LayoutModel",
      "state": {
       "_model_module": "@jupyter-widgets/base",
       "_model_module_version": "2.0.0",
       "_model_name": "LayoutModel",
       "_view_count": null,
       "_view_module": "@jupyter-widgets/base",
       "_view_module_version": "2.0.0",
       "_view_name": "LayoutView",
       "align_content": null,
       "align_items": null,
       "align_self": null,
       "border_bottom": null,
       "border_left": null,
       "border_right": null,
       "border_top": null,
       "bottom": null,
       "display": null,
       "flex": null,
       "flex_flow": null,
       "grid_area": null,
       "grid_auto_columns": null,
       "grid_auto_flow": null,
       "grid_auto_rows": null,
       "grid_column": null,
       "grid_gap": null,
       "grid_row": null,
       "grid_template_areas": null,
       "grid_template_columns": null,
       "grid_template_rows": null,
       "height": null,
       "justify_content": null,
       "justify_items": null,
       "left": null,
       "margin": null,
       "max_height": null,
       "max_width": null,
       "min_height": null,
       "min_width": null,
       "object_fit": null,
       "object_position": null,
       "order": null,
       "overflow": null,
       "padding": null,
       "right": null,
       "top": null,
       "visibility": null,
       "width": null
      }
     },
     "6278beba1e1e4c1c9e4ddd43875cf416": {
      "model_module": "@jupyter-widgets/controls",
      "model_module_version": "2.0.0",
      "model_name": "HTMLModel",
      "state": {
       "_dom_classes": [],
       "_model_module": "@jupyter-widgets/controls",
       "_model_module_version": "2.0.0",
       "_model_name": "HTMLModel",
       "_view_count": null,
       "_view_module": "@jupyter-widgets/controls",
       "_view_module_version": "2.0.0",
       "_view_name": "HTMLView",
       "description": "",
       "description_allow_html": false,
       "layout": "IPY_MODEL_d6331aaabe864a458759ae411a3e8fa0",
       "placeholder": "​",
       "style": "IPY_MODEL_d1a3eba7e4064c9780731f4dfcb902c9",
       "tabbable": null,
       "tooltip": null,
       "value": "tokenizer_config.json: 100%"
      }
     },
     "683d343204fc47c69be6c63e5887f92f": {
      "model_module": "@jupyter-widgets/base",
      "model_module_version": "2.0.0",
      "model_name": "LayoutModel",
      "state": {
       "_model_module": "@jupyter-widgets/base",
       "_model_module_version": "2.0.0",
       "_model_name": "LayoutModel",
       "_view_count": null,
       "_view_module": "@jupyter-widgets/base",
       "_view_module_version": "2.0.0",
       "_view_name": "LayoutView",
       "align_content": null,
       "align_items": null,
       "align_self": null,
       "border_bottom": null,
       "border_left": null,
       "border_right": null,
       "border_top": null,
       "bottom": null,
       "display": null,
       "flex": null,
       "flex_flow": null,
       "grid_area": null,
       "grid_auto_columns": null,
       "grid_auto_flow": null,
       "grid_auto_rows": null,
       "grid_column": null,
       "grid_gap": null,
       "grid_row": null,
       "grid_template_areas": null,
       "grid_template_columns": null,
       "grid_template_rows": null,
       "height": null,
       "justify_content": null,
       "justify_items": null,
       "left": null,
       "margin": null,
       "max_height": null,
       "max_width": null,
       "min_height": null,
       "min_width": null,
       "object_fit": null,
       "object_position": null,
       "order": null,
       "overflow": null,
       "padding": null,
       "right": null,
       "top": null,
       "visibility": null,
       "width": null
      }
     },
     "6b054cc97ffe43afaba2631040e44b4f": {
      "model_module": "@jupyter-widgets/controls",
      "model_module_version": "2.0.0",
      "model_name": "ProgressStyleModel",
      "state": {
       "_model_module": "@jupyter-widgets/controls",
       "_model_module_version": "2.0.0",
       "_model_name": "ProgressStyleModel",
       "_view_count": null,
       "_view_module": "@jupyter-widgets/base",
       "_view_module_version": "2.0.0",
       "_view_name": "StyleView",
       "bar_color": null,
       "description_width": ""
      }
     },
     "6c65f41fa088444097a498239205b8c1": {
      "model_module": "@jupyter-widgets/controls",
      "model_module_version": "2.0.0",
      "model_name": "HTMLModel",
      "state": {
       "_dom_classes": [],
       "_model_module": "@jupyter-widgets/controls",
       "_model_module_version": "2.0.0",
       "_model_name": "HTMLModel",
       "_view_count": null,
       "_view_module": "@jupyter-widgets/controls",
       "_view_module_version": "2.0.0",
       "_view_name": "HTMLView",
       "description": "",
       "description_allow_html": false,
       "layout": "IPY_MODEL_76edcc0539554201a83090230d2ae895",
       "placeholder": "​",
       "style": "IPY_MODEL_384e77a162824eb0aec81c4fba4e11db",
       "tabbable": null,
       "tooltip": null,
       "value": " 1.36M/1.36M [00:00&lt;00:00, 21.7MB/s]"
      }
     },
     "73128cfa18734570837ad8c0e95df8d1": {
      "model_module": "@jupyter-widgets/controls",
      "model_module_version": "2.0.0",
      "model_name": "HTMLStyleModel",
      "state": {
       "_model_module": "@jupyter-widgets/controls",
       "_model_module_version": "2.0.0",
       "_model_name": "HTMLStyleModel",
       "_view_count": null,
       "_view_module": "@jupyter-widgets/base",
       "_view_module_version": "2.0.0",
       "_view_name": "StyleView",
       "background": null,
       "description_width": "",
       "font_size": null,
       "text_color": null
      }
     },
     "76edcc0539554201a83090230d2ae895": {
      "model_module": "@jupyter-widgets/base",
      "model_module_version": "2.0.0",
      "model_name": "LayoutModel",
      "state": {
       "_model_module": "@jupyter-widgets/base",
       "_model_module_version": "2.0.0",
       "_model_name": "LayoutModel",
       "_view_count": null,
       "_view_module": "@jupyter-widgets/base",
       "_view_module_version": "2.0.0",
       "_view_name": "LayoutView",
       "align_content": null,
       "align_items": null,
       "align_self": null,
       "border_bottom": null,
       "border_left": null,
       "border_right": null,
       "border_top": null,
       "bottom": null,
       "display": null,
       "flex": null,
       "flex_flow": null,
       "grid_area": null,
       "grid_auto_columns": null,
       "grid_auto_flow": null,
       "grid_auto_rows": null,
       "grid_column": null,
       "grid_gap": null,
       "grid_row": null,
       "grid_template_areas": null,
       "grid_template_columns": null,
       "grid_template_rows": null,
       "height": null,
       "justify_content": null,
       "justify_items": null,
       "left": null,
       "margin": null,
       "max_height": null,
       "max_width": null,
       "min_height": null,
       "min_width": null,
       "object_fit": null,
       "object_position": null,
       "order": null,
       "overflow": null,
       "padding": null,
       "right": null,
       "top": null,
       "visibility": null,
       "width": null
      }
     },
     "7c3cafb27a51480c9d822591692d8e60": {
      "model_module": "@jupyter-widgets/base",
      "model_module_version": "2.0.0",
      "model_name": "LayoutModel",
      "state": {
       "_model_module": "@jupyter-widgets/base",
       "_model_module_version": "2.0.0",
       "_model_name": "LayoutModel",
       "_view_count": null,
       "_view_module": "@jupyter-widgets/base",
       "_view_module_version": "2.0.0",
       "_view_name": "LayoutView",
       "align_content": null,
       "align_items": null,
       "align_self": null,
       "border_bottom": null,
       "border_left": null,
       "border_right": null,
       "border_top": null,
       "bottom": null,
       "display": null,
       "flex": null,
       "flex_flow": null,
       "grid_area": null,
       "grid_auto_columns": null,
       "grid_auto_flow": null,
       "grid_auto_rows": null,
       "grid_column": null,
       "grid_gap": null,
       "grid_row": null,
       "grid_template_areas": null,
       "grid_template_columns": null,
       "grid_template_rows": null,
       "height": null,
       "justify_content": null,
       "justify_items": null,
       "left": null,
       "margin": null,
       "max_height": null,
       "max_width": null,
       "min_height": null,
       "min_width": null,
       "object_fit": null,
       "object_position": null,
       "order": null,
       "overflow": null,
       "padding": null,
       "right": null,
       "top": null,
       "visibility": null,
       "width": null
      }
     },
     "7e3ffe25b3b14e07a3abefd233fd6ae5": {
      "model_module": "@jupyter-widgets/controls",
      "model_module_version": "2.0.0",
      "model_name": "HBoxModel",
      "state": {
       "_dom_classes": [],
       "_model_module": "@jupyter-widgets/controls",
       "_model_module_version": "2.0.0",
       "_model_name": "HBoxModel",
       "_view_count": null,
       "_view_module": "@jupyter-widgets/controls",
       "_view_module_version": "2.0.0",
       "_view_name": "HBoxView",
       "box_style": "",
       "children": [
        "IPY_MODEL_6278beba1e1e4c1c9e4ddd43875cf416",
        "IPY_MODEL_0893a09c949841e2849656b1e7684953",
        "IPY_MODEL_1043eb745a144d84919baaf576a709fd"
       ],
       "layout": "IPY_MODEL_7c3cafb27a51480c9d822591692d8e60",
       "tabbable": null,
       "tooltip": null
      }
     },
     "831aea755c7540c3849f0ae6bbf833cc": {
      "model_module": "@jupyter-widgets/base",
      "model_module_version": "2.0.0",
      "model_name": "LayoutModel",
      "state": {
       "_model_module": "@jupyter-widgets/base",
       "_model_module_version": "2.0.0",
       "_model_name": "LayoutModel",
       "_view_count": null,
       "_view_module": "@jupyter-widgets/base",
       "_view_module_version": "2.0.0",
       "_view_name": "LayoutView",
       "align_content": null,
       "align_items": null,
       "align_self": null,
       "border_bottom": null,
       "border_left": null,
       "border_right": null,
       "border_top": null,
       "bottom": null,
       "display": null,
       "flex": null,
       "flex_flow": null,
       "grid_area": null,
       "grid_auto_columns": null,
       "grid_auto_flow": null,
       "grid_auto_rows": null,
       "grid_column": null,
       "grid_gap": null,
       "grid_row": null,
       "grid_template_areas": null,
       "grid_template_columns": null,
       "grid_template_rows": null,
       "height": null,
       "justify_content": null,
       "justify_items": null,
       "left": null,
       "margin": null,
       "max_height": null,
       "max_width": null,
       "min_height": null,
       "min_width": null,
       "object_fit": null,
       "object_position": null,
       "order": null,
       "overflow": null,
       "padding": null,
       "right": null,
       "top": null,
       "visibility": null,
       "width": null
      }
     },
     "86a4010059e5412c8019f3532f753d13": {
      "model_module": "@jupyter-widgets/base",
      "model_module_version": "2.0.0",
      "model_name": "LayoutModel",
      "state": {
       "_model_module": "@jupyter-widgets/base",
       "_model_module_version": "2.0.0",
       "_model_name": "LayoutModel",
       "_view_count": null,
       "_view_module": "@jupyter-widgets/base",
       "_view_module_version": "2.0.0",
       "_view_name": "LayoutView",
       "align_content": null,
       "align_items": null,
       "align_self": null,
       "border_bottom": null,
       "border_left": null,
       "border_right": null,
       "border_top": null,
       "bottom": null,
       "display": null,
       "flex": null,
       "flex_flow": null,
       "grid_area": null,
       "grid_auto_columns": null,
       "grid_auto_flow": null,
       "grid_auto_rows": null,
       "grid_column": null,
       "grid_gap": null,
       "grid_row": null,
       "grid_template_areas": null,
       "grid_template_columns": null,
       "grid_template_rows": null,
       "height": null,
       "justify_content": null,
       "justify_items": null,
       "left": null,
       "margin": null,
       "max_height": null,
       "max_width": null,
       "min_height": null,
       "min_width": null,
       "object_fit": null,
       "object_position": null,
       "order": null,
       "overflow": null,
       "padding": null,
       "right": null,
       "top": null,
       "visibility": null,
       "width": null
      }
     },
     "94d2874bba2947d3bc1df1c4295181d8": {
      "model_module": "@jupyter-widgets/base",
      "model_module_version": "2.0.0",
      "model_name": "LayoutModel",
      "state": {
       "_model_module": "@jupyter-widgets/base",
       "_model_module_version": "2.0.0",
       "_model_name": "LayoutModel",
       "_view_count": null,
       "_view_module": "@jupyter-widgets/base",
       "_view_module_version": "2.0.0",
       "_view_name": "LayoutView",
       "align_content": null,
       "align_items": null,
       "align_self": null,
       "border_bottom": null,
       "border_left": null,
       "border_right": null,
       "border_top": null,
       "bottom": null,
       "display": null,
       "flex": null,
       "flex_flow": null,
       "grid_area": null,
       "grid_auto_columns": null,
       "grid_auto_flow": null,
       "grid_auto_rows": null,
       "grid_column": null,
       "grid_gap": null,
       "grid_row": null,
       "grid_template_areas": null,
       "grid_template_columns": null,
       "grid_template_rows": null,
       "height": null,
       "justify_content": null,
       "justify_items": null,
       "left": null,
       "margin": null,
       "max_height": null,
       "max_width": null,
       "min_height": null,
       "min_width": null,
       "object_fit": null,
       "object_position": null,
       "order": null,
       "overflow": null,
       "padding": null,
       "right": null,
       "top": null,
       "visibility": null,
       "width": null
      }
     },
     "965b27ef845c44d39dda5a2ee0a0eea9": {
      "model_module": "@jupyter-widgets/controls",
      "model_module_version": "2.0.0",
      "model_name": "ProgressStyleModel",
      "state": {
       "_model_module": "@jupyter-widgets/controls",
       "_model_module_version": "2.0.0",
       "_model_name": "ProgressStyleModel",
       "_view_count": null,
       "_view_module": "@jupyter-widgets/base",
       "_view_module_version": "2.0.0",
       "_view_name": "StyleView",
       "bar_color": null,
       "description_width": ""
      }
     },
     "98d53c52d9734126a10672315a22ce0c": {
      "model_module": "@jupyter-widgets/controls",
      "model_module_version": "2.0.0",
      "model_name": "HTMLModel",
      "state": {
       "_dom_classes": [],
       "_model_module": "@jupyter-widgets/controls",
       "_model_module_version": "2.0.0",
       "_model_name": "HTMLModel",
       "_view_count": null,
       "_view_module": "@jupyter-widgets/controls",
       "_view_module_version": "2.0.0",
       "_view_name": "HTMLView",
       "description": "",
       "description_allow_html": false,
       "layout": "IPY_MODEL_1932ff9f8827452d967b82cdc952cd6b",
       "placeholder": "​",
       "style": "IPY_MODEL_73128cfa18734570837ad8c0e95df8d1",
       "tabbable": null,
       "tooltip": null,
       "value": "config.json: 100%"
      }
     },
     "a06ac078af264e2f8a2c35f49c091e64": {
      "model_module": "@jupyter-widgets/controls",
      "model_module_version": "2.0.0",
      "model_name": "HBoxModel",
      "state": {
       "_dom_classes": [],
       "_model_module": "@jupyter-widgets/controls",
       "_model_module_version": "2.0.0",
       "_model_name": "HBoxModel",
       "_view_count": null,
       "_view_module": "@jupyter-widgets/controls",
       "_view_module_version": "2.0.0",
       "_view_name": "HBoxView",
       "box_style": "",
       "children": [
        "IPY_MODEL_1e22254630944ce6aaa9f576a4210bcd",
        "IPY_MODEL_f6820fcee871489e91b662e41dff358b",
        "IPY_MODEL_b488d26a831b437180bdae4c4530e5ad"
       ],
       "layout": "IPY_MODEL_35e18d3f5f9d4bbf82f9137e41604c9c",
       "tabbable": null,
       "tooltip": null
      }
     },
     "a16f27a44de54f42a0ae4a42e8a172b8": {
      "model_module": "@jupyter-widgets/controls",
      "model_module_version": "2.0.0",
      "model_name": "ProgressStyleModel",
      "state": {
       "_model_module": "@jupyter-widgets/controls",
       "_model_module_version": "2.0.0",
       "_model_name": "ProgressStyleModel",
       "_view_count": null,
       "_view_module": "@jupyter-widgets/base",
       "_view_module_version": "2.0.0",
       "_view_name": "StyleView",
       "bar_color": null,
       "description_width": ""
      }
     },
     "aa121c6c14bb4d61b6a95adbbe3f16ca": {
      "model_module": "@jupyter-widgets/controls",
      "model_module_version": "2.0.0",
      "model_name": "FloatProgressModel",
      "state": {
       "_dom_classes": [],
       "_model_module": "@jupyter-widgets/controls",
       "_model_module_version": "2.0.0",
       "_model_name": "FloatProgressModel",
       "_view_count": null,
       "_view_module": "@jupyter-widgets/controls",
       "_view_module_version": "2.0.0",
       "_view_name": "ProgressView",
       "bar_style": "success",
       "description": "",
       "description_allow_html": false,
       "layout": "IPY_MODEL_cda7997ea75e40409eb0187e2578fe31",
       "max": 1355863.0,
       "min": 0.0,
       "orientation": "horizontal",
       "style": "IPY_MODEL_a16f27a44de54f42a0ae4a42e8a172b8",
       "tabbable": null,
       "tooltip": null,
       "value": 1355863.0
      }
     },
     "ade61b2256ff4559ba1cce992bf8ab9f": {
      "model_module": "@jupyter-widgets/controls",
      "model_module_version": "2.0.0",
      "model_name": "FloatProgressModel",
      "state": {
       "_dom_classes": [],
       "_model_module": "@jupyter-widgets/controls",
       "_model_module_version": "2.0.0",
       "_model_name": "FloatProgressModel",
       "_view_count": null,
       "_view_module": "@jupyter-widgets/controls",
       "_view_module_version": "2.0.0",
       "_view_name": "ProgressView",
       "bar_style": "success",
       "description": "",
       "description_allow_html": false,
       "layout": "IPY_MODEL_94d2874bba2947d3bc1df1c4295181d8",
       "max": 481.0,
       "min": 0.0,
       "orientation": "horizontal",
       "style": "IPY_MODEL_965b27ef845c44d39dda5a2ee0a0eea9",
       "tabbable": null,
       "tooltip": null,
       "value": 481.0
      }
     },
     "af48b7c5a1d840bc81225d5cdfdc2c05": {
      "model_module": "@jupyter-widgets/base",
      "model_module_version": "2.0.0",
      "model_name": "LayoutModel",
      "state": {
       "_model_module": "@jupyter-widgets/base",
       "_model_module_version": "2.0.0",
       "_model_name": "LayoutModel",
       "_view_count": null,
       "_view_module": "@jupyter-widgets/base",
       "_view_module_version": "2.0.0",
       "_view_name": "LayoutView",
       "align_content": null,
       "align_items": null,
       "align_self": null,
       "border_bottom": null,
       "border_left": null,
       "border_right": null,
       "border_top": null,
       "bottom": null,
       "display": null,
       "flex": null,
       "flex_flow": null,
       "grid_area": null,
       "grid_auto_columns": null,
       "grid_auto_flow": null,
       "grid_auto_rows": null,
       "grid_column": null,
       "grid_gap": null,
       "grid_row": null,
       "grid_template_areas": null,
       "grid_template_columns": null,
       "grid_template_rows": null,
       "height": null,
       "justify_content": null,
       "justify_items": null,
       "left": null,
       "margin": null,
       "max_height": null,
       "max_width": null,
       "min_height": null,
       "min_width": null,
       "object_fit": null,
       "object_position": null,
       "order": null,
       "overflow": null,
       "padding": null,
       "right": null,
       "top": null,
       "visibility": null,
       "width": null
      }
     },
     "b488d26a831b437180bdae4c4530e5ad": {
      "model_module": "@jupyter-widgets/controls",
      "model_module_version": "2.0.0",
      "model_name": "HTMLModel",
      "state": {
       "_dom_classes": [],
       "_model_module": "@jupyter-widgets/controls",
       "_model_module_version": "2.0.0",
       "_model_name": "HTMLModel",
       "_view_count": null,
       "_view_module": "@jupyter-widgets/controls",
       "_view_module_version": "2.0.0",
       "_view_name": "HTMLView",
       "description": "",
       "description_allow_html": false,
       "layout": "IPY_MODEL_86a4010059e5412c8019f3532f753d13",
       "placeholder": "​",
       "style": "IPY_MODEL_33bda92e84f940ef8f03e4712469dab9",
       "tabbable": null,
       "tooltip": null,
       "value": " 899k/899k [00:00&lt;00:00, 12.8MB/s]"
      }
     },
     "b85ccd4a85614a8d8b3864a22d8aa902": {
      "model_module": "@jupyter-widgets/base",
      "model_module_version": "2.0.0",
      "model_name": "LayoutModel",
      "state": {
       "_model_module": "@jupyter-widgets/base",
       "_model_module_version": "2.0.0",
       "_model_name": "LayoutModel",
       "_view_count": null,
       "_view_module": "@jupyter-widgets/base",
       "_view_module_version": "2.0.0",
       "_view_name": "LayoutView",
       "align_content": null,
       "align_items": null,
       "align_self": null,
       "border_bottom": null,
       "border_left": null,
       "border_right": null,
       "border_top": null,
       "bottom": null,
       "display": null,
       "flex": null,
       "flex_flow": null,
       "grid_area": null,
       "grid_auto_columns": null,
       "grid_auto_flow": null,
       "grid_auto_rows": null,
       "grid_column": null,
       "grid_gap": null,
       "grid_row": null,
       "grid_template_areas": null,
       "grid_template_columns": null,
       "grid_template_rows": null,
       "height": null,
       "justify_content": null,
       "justify_items": null,
       "left": null,
       "margin": null,
       "max_height": null,
       "max_width": null,
       "min_height": null,
       "min_width": null,
       "object_fit": null,
       "object_position": null,
       "order": null,
       "overflow": null,
       "padding": null,
       "right": null,
       "top": null,
       "visibility": null,
       "width": null
      }
     },
     "bc4239565d884387b18723fa21c79b8b": {
      "model_module": "@jupyter-widgets/controls",
      "model_module_version": "2.0.0",
      "model_name": "HTMLModel",
      "state": {
       "_dom_classes": [],
       "_model_module": "@jupyter-widgets/controls",
       "_model_module_version": "2.0.0",
       "_model_name": "HTMLModel",
       "_view_count": null,
       "_view_module": "@jupyter-widgets/controls",
       "_view_module_version": "2.0.0",
       "_view_name": "HTMLView",
       "description": "",
       "description_allow_html": false,
       "layout": "IPY_MODEL_36101c9b347c46419e39f0c042db84f6",
       "placeholder": "​",
       "style": "IPY_MODEL_45828208d93b4506996a2962527577d2",
       "tabbable": null,
       "tooltip": null,
       "value": " 456k/456k [00:00&lt;00:00, 31.6MB/s]"
      }
     },
     "bc84844bf78d4fc592e4fdaf1b204d57": {
      "model_module": "@jupyter-widgets/base",
      "model_module_version": "2.0.0",
      "model_name": "LayoutModel",
      "state": {
       "_model_module": "@jupyter-widgets/base",
       "_model_module_version": "2.0.0",
       "_model_name": "LayoutModel",
       "_view_count": null,
       "_view_module": "@jupyter-widgets/base",
       "_view_module_version": "2.0.0",
       "_view_name": "LayoutView",
       "align_content": null,
       "align_items": null,
       "align_self": null,
       "border_bottom": null,
       "border_left": null,
       "border_right": null,
       "border_top": null,
       "bottom": null,
       "display": null,
       "flex": null,
       "flex_flow": null,
       "grid_area": null,
       "grid_auto_columns": null,
       "grid_auto_flow": null,
       "grid_auto_rows": null,
       "grid_column": null,
       "grid_gap": null,
       "grid_row": null,
       "grid_template_areas": null,
       "grid_template_columns": null,
       "grid_template_rows": null,
       "height": null,
       "justify_content": null,
       "justify_items": null,
       "left": null,
       "margin": null,
       "max_height": null,
       "max_width": null,
       "min_height": null,
       "min_width": null,
       "object_fit": null,
       "object_position": null,
       "order": null,
       "overflow": null,
       "padding": null,
       "right": null,
       "top": null,
       "visibility": null,
       "width": null
      }
     },
     "bec903d4fab64e098ac8b4de7c3b8d5d": {
      "model_module": "@jupyter-widgets/controls",
      "model_module_version": "2.0.0",
      "model_name": "FloatProgressModel",
      "state": {
       "_dom_classes": [],
       "_model_module": "@jupyter-widgets/controls",
       "_model_module_version": "2.0.0",
       "_model_name": "FloatProgressModel",
       "_view_count": null,
       "_view_module": "@jupyter-widgets/controls",
       "_view_module_version": "2.0.0",
       "_view_name": "ProgressView",
       "bar_style": "success",
       "description": "",
       "description_allow_html": false,
       "layout": "IPY_MODEL_e2719414bc7d4f1b889550686b26937f",
       "max": 456318.0,
       "min": 0.0,
       "orientation": "horizontal",
       "style": "IPY_MODEL_521787a5e31e40c291ae9458524a1521",
       "tabbable": null,
       "tooltip": null,
       "value": 456318.0
      }
     },
     "c159ea2da8b1498faa9aca72df01a165": {
      "model_module": "@jupyter-widgets/controls",
      "model_module_version": "2.0.0",
      "model_name": "HTMLStyleModel",
      "state": {
       "_model_module": "@jupyter-widgets/controls",
       "_model_module_version": "2.0.0",
       "_model_name": "HTMLStyleModel",
       "_view_count": null,
       "_view_module": "@jupyter-widgets/base",
       "_view_module_version": "2.0.0",
       "_view_name": "StyleView",
       "background": null,
       "description_width": "",
       "font_size": null,
       "text_color": null
      }
     },
     "c601d6f6d9e84b92b941408332707d1a": {
      "model_module": "@jupyter-widgets/base",
      "model_module_version": "2.0.0",
      "model_name": "LayoutModel",
      "state": {
       "_model_module": "@jupyter-widgets/base",
       "_model_module_version": "2.0.0",
       "_model_name": "LayoutModel",
       "_view_count": null,
       "_view_module": "@jupyter-widgets/base",
       "_view_module_version": "2.0.0",
       "_view_name": "LayoutView",
       "align_content": null,
       "align_items": null,
       "align_self": null,
       "border_bottom": null,
       "border_left": null,
       "border_right": null,
       "border_top": null,
       "bottom": null,
       "display": null,
       "flex": null,
       "flex_flow": null,
       "grid_area": null,
       "grid_auto_columns": null,
       "grid_auto_flow": null,
       "grid_auto_rows": null,
       "grid_column": null,
       "grid_gap": null,
       "grid_row": null,
       "grid_template_areas": null,
       "grid_template_columns": null,
       "grid_template_rows": null,
       "height": null,
       "justify_content": null,
       "justify_items": null,
       "left": null,
       "margin": null,
       "max_height": null,
       "max_width": null,
       "min_height": null,
       "min_width": null,
       "object_fit": null,
       "object_position": null,
       "order": null,
       "overflow": null,
       "padding": null,
       "right": null,
       "top": null,
       "visibility": null,
       "width": null
      }
     },
     "cbd13057d766413aaf2c0bcd011c73d0": {
      "model_module": "@jupyter-widgets/controls",
      "model_module_version": "2.0.0",
      "model_name": "HTMLModel",
      "state": {
       "_dom_classes": [],
       "_model_module": "@jupyter-widgets/controls",
       "_model_module_version": "2.0.0",
       "_model_name": "HTMLModel",
       "_view_count": null,
       "_view_module": "@jupyter-widgets/controls",
       "_view_module_version": "2.0.0",
       "_view_name": "HTMLView",
       "description": "",
       "description_allow_html": false,
       "layout": "IPY_MODEL_683d343204fc47c69be6c63e5887f92f",
       "placeholder": "​",
       "style": "IPY_MODEL_53f164a059814e528fedf14f3a207238",
       "tabbable": null,
       "tooltip": null,
       "value": " 481/481 [00:00&lt;00:00, 48.3kB/s]"
      }
     },
     "cda7997ea75e40409eb0187e2578fe31": {
      "model_module": "@jupyter-widgets/base",
      "model_module_version": "2.0.0",
      "model_name": "LayoutModel",
      "state": {
       "_model_module": "@jupyter-widgets/base",
       "_model_module_version": "2.0.0",
       "_model_name": "LayoutModel",
       "_view_count": null,
       "_view_module": "@jupyter-widgets/base",
       "_view_module_version": "2.0.0",
       "_view_name": "LayoutView",
       "align_content": null,
       "align_items": null,
       "align_self": null,
       "border_bottom": null,
       "border_left": null,
       "border_right": null,
       "border_top": null,
       "bottom": null,
       "display": null,
       "flex": null,
       "flex_flow": null,
       "grid_area": null,
       "grid_auto_columns": null,
       "grid_auto_flow": null,
       "grid_auto_rows": null,
       "grid_column": null,
       "grid_gap": null,
       "grid_row": null,
       "grid_template_areas": null,
       "grid_template_columns": null,
       "grid_template_rows": null,
       "height": null,
       "justify_content": null,
       "justify_items": null,
       "left": null,
       "margin": null,
       "max_height": null,
       "max_width": null,
       "min_height": null,
       "min_width": null,
       "object_fit": null,
       "object_position": null,
       "order": null,
       "overflow": null,
       "padding": null,
       "right": null,
       "top": null,
       "visibility": null,
       "width": null
      }
     },
     "d1a3eba7e4064c9780731f4dfcb902c9": {
      "model_module": "@jupyter-widgets/controls",
      "model_module_version": "2.0.0",
      "model_name": "HTMLStyleModel",
      "state": {
       "_model_module": "@jupyter-widgets/controls",
       "_model_module_version": "2.0.0",
       "_model_name": "HTMLStyleModel",
       "_view_count": null,
       "_view_module": "@jupyter-widgets/base",
       "_view_module_version": "2.0.0",
       "_view_name": "StyleView",
       "background": null,
       "description_width": "",
       "font_size": null,
       "text_color": null
      }
     },
     "d6331aaabe864a458759ae411a3e8fa0": {
      "model_module": "@jupyter-widgets/base",
      "model_module_version": "2.0.0",
      "model_name": "LayoutModel",
      "state": {
       "_model_module": "@jupyter-widgets/base",
       "_model_module_version": "2.0.0",
       "_model_name": "LayoutModel",
       "_view_count": null,
       "_view_module": "@jupyter-widgets/base",
       "_view_module_version": "2.0.0",
       "_view_name": "LayoutView",
       "align_content": null,
       "align_items": null,
       "align_self": null,
       "border_bottom": null,
       "border_left": null,
       "border_right": null,
       "border_top": null,
       "bottom": null,
       "display": null,
       "flex": null,
       "flex_flow": null,
       "grid_area": null,
       "grid_auto_columns": null,
       "grid_auto_flow": null,
       "grid_auto_rows": null,
       "grid_column": null,
       "grid_gap": null,
       "grid_row": null,
       "grid_template_areas": null,
       "grid_template_columns": null,
       "grid_template_rows": null,
       "height": null,
       "justify_content": null,
       "justify_items": null,
       "left": null,
       "margin": null,
       "max_height": null,
       "max_width": null,
       "min_height": null,
       "min_width": null,
       "object_fit": null,
       "object_position": null,
       "order": null,
       "overflow": null,
       "padding": null,
       "right": null,
       "top": null,
       "visibility": null,
       "width": null
      }
     },
     "dffb140c55e64fa8aee54df53eff0e7d": {
      "model_module": "@jupyter-widgets/controls",
      "model_module_version": "2.0.0",
      "model_name": "ProgressStyleModel",
      "state": {
       "_model_module": "@jupyter-widgets/controls",
       "_model_module_version": "2.0.0",
       "_model_name": "ProgressStyleModel",
       "_view_count": null,
       "_view_module": "@jupyter-widgets/base",
       "_view_module_version": "2.0.0",
       "_view_name": "StyleView",
       "bar_color": null,
       "description_width": ""
      }
     },
     "e226f84c046a4835af3ad3e6d7298c9f": {
      "model_module": "@jupyter-widgets/controls",
      "model_module_version": "2.0.0",
      "model_name": "HTMLStyleModel",
      "state": {
       "_model_module": "@jupyter-widgets/controls",
       "_model_module_version": "2.0.0",
       "_model_name": "HTMLStyleModel",
       "_view_count": null,
       "_view_module": "@jupyter-widgets/base",
       "_view_module_version": "2.0.0",
       "_view_name": "StyleView",
       "background": null,
       "description_width": "",
       "font_size": null,
       "text_color": null
      }
     },
     "e2719414bc7d4f1b889550686b26937f": {
      "model_module": "@jupyter-widgets/base",
      "model_module_version": "2.0.0",
      "model_name": "LayoutModel",
      "state": {
       "_model_module": "@jupyter-widgets/base",
       "_model_module_version": "2.0.0",
       "_model_name": "LayoutModel",
       "_view_count": null,
       "_view_module": "@jupyter-widgets/base",
       "_view_module_version": "2.0.0",
       "_view_name": "LayoutView",
       "align_content": null,
       "align_items": null,
       "align_self": null,
       "border_bottom": null,
       "border_left": null,
       "border_right": null,
       "border_top": null,
       "bottom": null,
       "display": null,
       "flex": null,
       "flex_flow": null,
       "grid_area": null,
       "grid_auto_columns": null,
       "grid_auto_flow": null,
       "grid_auto_rows": null,
       "grid_column": null,
       "grid_gap": null,
       "grid_row": null,
       "grid_template_areas": null,
       "grid_template_columns": null,
       "grid_template_rows": null,
       "height": null,
       "justify_content": null,
       "justify_items": null,
       "left": null,
       "margin": null,
       "max_height": null,
       "max_width": null,
       "min_height": null,
       "min_width": null,
       "object_fit": null,
       "object_position": null,
       "order": null,
       "overflow": null,
       "padding": null,
       "right": null,
       "top": null,
       "visibility": null,
       "width": null
      }
     },
     "edb5a16c612b4b339758a47f43e45cc9": {
      "model_module": "@jupyter-widgets/controls",
      "model_module_version": "2.0.0",
      "model_name": "HBoxModel",
      "state": {
       "_dom_classes": [],
       "_model_module": "@jupyter-widgets/controls",
       "_model_module_version": "2.0.0",
       "_model_name": "HBoxModel",
       "_view_count": null,
       "_view_module": "@jupyter-widgets/controls",
       "_view_module_version": "2.0.0",
       "_view_name": "HBoxView",
       "box_style": "",
       "children": [
        "IPY_MODEL_98d53c52d9734126a10672315a22ce0c",
        "IPY_MODEL_ade61b2256ff4559ba1cce992bf8ab9f",
        "IPY_MODEL_cbd13057d766413aaf2c0bcd011c73d0"
       ],
       "layout": "IPY_MODEL_c601d6f6d9e84b92b941408332707d1a",
       "tabbable": null,
       "tooltip": null
      }
     },
     "f48c7b53fa2b42df9089a9b310c261aa": {
      "model_module": "@jupyter-widgets/base",
      "model_module_version": "2.0.0",
      "model_name": "LayoutModel",
      "state": {
       "_model_module": "@jupyter-widgets/base",
       "_model_module_version": "2.0.0",
       "_model_name": "LayoutModel",
       "_view_count": null,
       "_view_module": "@jupyter-widgets/base",
       "_view_module_version": "2.0.0",
       "_view_name": "LayoutView",
       "align_content": null,
       "align_items": null,
       "align_self": null,
       "border_bottom": null,
       "border_left": null,
       "border_right": null,
       "border_top": null,
       "bottom": null,
       "display": null,
       "flex": null,
       "flex_flow": null,
       "grid_area": null,
       "grid_auto_columns": null,
       "grid_auto_flow": null,
       "grid_auto_rows": null,
       "grid_column": null,
       "grid_gap": null,
       "grid_row": null,
       "grid_template_areas": null,
       "grid_template_columns": null,
       "grid_template_rows": null,
       "height": null,
       "justify_content": null,
       "justify_items": null,
       "left": null,
       "margin": null,
       "max_height": null,
       "max_width": null,
       "min_height": null,
       "min_width": null,
       "object_fit": null,
       "object_position": null,
       "order": null,
       "overflow": null,
       "padding": null,
       "right": null,
       "top": null,
       "visibility": null,
       "width": null
      }
     },
     "f6820fcee871489e91b662e41dff358b": {
      "model_module": "@jupyter-widgets/controls",
      "model_module_version": "2.0.0",
      "model_name": "FloatProgressModel",
      "state": {
       "_dom_classes": [],
       "_model_module": "@jupyter-widgets/controls",
       "_model_module_version": "2.0.0",
       "_model_name": "FloatProgressModel",
       "_view_count": null,
       "_view_module": "@jupyter-widgets/controls",
       "_view_module_version": "2.0.0",
       "_view_name": "ProgressView",
       "bar_style": "success",
       "description": "",
       "description_allow_html": false,
       "layout": "IPY_MODEL_831aea755c7540c3849f0ae6bbf833cc",
       "max": 898823.0,
       "min": 0.0,
       "orientation": "horizontal",
       "style": "IPY_MODEL_dffb140c55e64fa8aee54df53eff0e7d",
       "tabbable": null,
       "tooltip": null,
       "value": 898823.0
      }
     }
    },
    "version_major": 2,
    "version_minor": 0
   }
  }
 },
 "nbformat": 4,
 "nbformat_minor": 5
}
